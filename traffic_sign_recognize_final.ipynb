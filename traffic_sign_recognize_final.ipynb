{
  "cells": [
    {
      "cell_type": "code",
      "execution_count": null,
      "metadata": {
        "colab": {
          "base_uri": "https://localhost:8080/"
        },
        "id": "I7v3DX7a1sE_",
        "outputId": "21a72ae1-ff12-4ee6-c96a-4cb800640a55"
      },
      "outputs": [
        {
          "output_type": "stream",
          "name": "stdout",
          "text": [
            "Mounted at /content/gdrive\n"
          ]
        }
      ],
      "source": [
        "from google.colab import drive\n",
        "drive.mount('/content/gdrive')"
      ]
    },
    {
      "cell_type": "markdown",
      "metadata": {
        "id": "Ahvu75UXDH0w"
      },
      "source": [
        "# Download dataset Mapillary (Traffic sign)"
      ]
    },
    {
      "cell_type": "markdown",
      "metadata": {
        "id": "se7A6-uCHZe3"
      },
      "source": [
        "## Unzip images"
      ]
    },
    {
      "cell_type": "code",
      "execution_count": null,
      "metadata": {
        "id": "yNINTSH55HjP"
      },
      "outputs": [],
      "source": [
        "!unzip /content/gdrive/MyDrive/An_WKGcw-ICowA_xAgTEU_E-pAYdybyzT-9Pwi8JtelanWnNRKONV1DTAZPEAsGNDWlFpYDi16km1stDN47ip-quE77cfkv3aERdMIRahysGgspb6DlCgrabPSTFJI3tZ9EMRatRC6ZmjQytVcY.zip"
      ]
    },
    {
      "cell_type": "code",
      "execution_count": null,
      "metadata": {
        "id": "uubZq8uyIBAz",
        "colab": {
          "base_uri": "https://localhost:8080/"
        },
        "outputId": "3129c40a-6fb0-468e-e3ba-1a592e06860b"
      },
      "outputs": [
        {
          "output_type": "stream",
          "name": "stdout",
          "text": [
            "12197\n"
          ]
        }
      ],
      "source": [
        "!ls /content/images | wc -l"
      ]
    },
    {
      "cell_type": "code",
      "execution_count": null,
      "metadata": {
        "id": "55rox3NvHiLp"
      },
      "outputs": [],
      "source": [
        "!unzip /content/gdrive/MyDrive/An8VtaI-ldaSOc5HcLFVQ6SPvHDt50hLG1kga0nUfswldLu1J9dsOx6ynZicRUuXR_TvsczpplOqQEa7ppT4JwUzI0ZNQCHmhtkfT5tjdNJY55Ud6eXplvq59PjOx55d2EbIxYpO9vhR-BcflQ.zip"
      ]
    },
    {
      "cell_type": "code",
      "execution_count": null,
      "metadata": {
        "id": "q5tKsOtVIB1z",
        "colab": {
          "base_uri": "https://localhost:8080/"
        },
        "outputId": "dffa2ce3-ea58-4348-8cb7-b4fed5db0d5a"
      },
      "outputs": [
        {
          "output_type": "stream",
          "name": "stdout",
          "text": [
            "24393\n"
          ]
        }
      ],
      "source": [
        "!ls /content/images | wc -l"
      ]
    },
    {
      "cell_type": "code",
      "execution_count": null,
      "metadata": {
        "id": "tj3GlKDUHiSU"
      },
      "outputs": [],
      "source": [
        "!unzip /content/gdrive/MyDrive/An9BwhO8zTAy6jGrwy71BjIBtMK8K5RkpIJguP7DVnpJK2TfKDlfxXj8mCxRJss4zzfaaKi2idqbQOtYJ740TPCI7w7hL8V7goknzuO0ZFPLywDCKIB7i64lCiSUNYXLqeS8mC7EkiU5hYAfOcI.zip"
      ]
    },
    {
      "cell_type": "code",
      "execution_count": null,
      "metadata": {
        "id": "SjtUUF0wICUK",
        "colab": {
          "base_uri": "https://localhost:8080/"
        },
        "outputId": "d8af9f92-9222-424a-c040-a2bc8312c088"
      },
      "outputs": [
        {
          "output_type": "stream",
          "name": "stdout",
          "text": [
            "36589\n"
          ]
        }
      ],
      "source": [
        "!ls /content/images | wc -l"
      ]
    },
    {
      "cell_type": "markdown",
      "metadata": {
        "id": "g40Rqon6T4q8"
      },
      "source": [
        "## Unzip validation"
      ]
    },
    {
      "cell_type": "code",
      "execution_count": null,
      "metadata": {
        "id": "ZuezofC4T7-5"
      },
      "outputs": [],
      "source": [
        "!mkdir val_images\n",
        "!unzip /content/gdrive/MyDrive/val_mapillary.zip -d val_images"
      ]
    },
    {
      "cell_type": "code",
      "execution_count": null,
      "metadata": {
        "id": "UUntsC3XVQkc",
        "colab": {
          "base_uri": "https://localhost:8080/"
        },
        "outputId": "1610c182-07e0-4553-b5a9-8d8869fe567c"
      },
      "outputs": [
        {
          "output_type": "stream",
          "name": "stdout",
          "text": [
            "5320\n"
          ]
        }
      ],
      "source": [
        "!ls /content/val_images/images | wc -l"
      ]
    },
    {
      "cell_type": "markdown",
      "metadata": {
        "id": "XeoJGWvTHcB0"
      },
      "source": [
        "## Unzip annotaions"
      ]
    },
    {
      "cell_type": "code",
      "execution_count": null,
      "metadata": {
        "id": "RnCPJr0L2tTM"
      },
      "outputs": [],
      "source": [
        "\n",
        "!unzip /content/gdrive/MyDrive/An90x89nHvauCK1fqMJ8110KeTjNo5Si7rzhvwIMCu5xI9_GhWBGOIXaFvu6o53NuNpBMzdC9qsjAVR8sLv8m6WoFfn6Qd4NjMYKNW4NCKVp6gx3MhZtwf3cZR94wFhou5lPI0hGUw.zip"
      ]
    },
    {
      "cell_type": "code",
      "execution_count": null,
      "metadata": {
        "id": "gKdd8xFc5soI",
        "colab": {
          "base_uri": "https://localhost:8080/"
        },
        "outputId": "a05039c9-55e5-4ad8-b199-0ea4a8481a99"
      },
      "outputs": [
        {
          "output_type": "stream",
          "name": "stdout",
          "text": [
            "41909\n"
          ]
        }
      ],
      "source": [
        "!ls /content/mtsd_v2_fully_annotated/annotations | wc -l"
      ]
    },
    {
      "cell_type": "markdown",
      "metadata": {
        "id": "7YPMIeob94zA"
      },
      "source": [
        "## Overview dataset"
      ]
    },
    {
      "cell_type": "code",
      "execution_count": null,
      "metadata": {
        "id": "0UlaWMldC4OA",
        "colab": {
          "base_uri": "https://localhost:8080/"
        },
        "outputId": "80c75a77-a6a4-4553-8f14-11228480553b"
      },
      "outputs": [
        {
          "output_type": "stream",
          "name": "stdout",
          "text": [
            "Looking in indexes: https://pypi.org/simple, https://us-python.pkg.dev/colab-wheels/public/simple/\n",
            "Collecting plotly==4.14.3\n",
            "  Downloading plotly-4.14.3-py2.py3-none-any.whl (13.2 MB)\n",
            "\u001b[K     |████████████████████████████████| 13.2 MB 1.3 MB/s \n",
            "\u001b[?25hRequirement already satisfied: six in /usr/local/lib/python3.7/dist-packages (from plotly==4.14.3) (1.15.0)\n",
            "Collecting retrying>=1.3.3\n",
            "  Downloading retrying-1.3.3.tar.gz (10 kB)\n",
            "Building wheels for collected packages: retrying\n",
            "  Building wheel for retrying (setup.py) ... \u001b[?25l\u001b[?25hdone\n",
            "  Created wheel for retrying: filename=retrying-1.3.3-py3-none-any.whl size=11447 sha256=59988a4f10e4a5beb8ce40352286171eed0995f588e9502eddb511d37fca32c7\n",
            "  Stored in directory: /root/.cache/pip/wheels/f9/8d/8d/f6af3f7f9eea3553bc2fe6d53e4b287dad18b06a861ac56ddf\n",
            "Successfully built retrying\n",
            "Installing collected packages: retrying, plotly\n",
            "  Attempting uninstall: plotly\n",
            "    Found existing installation: plotly 5.5.0\n",
            "    Uninstalling plotly-5.5.0:\n",
            "      Successfully uninstalled plotly-5.5.0\n",
            "Successfully installed plotly-4.14.3 retrying-1.3.3\n"
          ]
        }
      ],
      "source": [
        "!pip3 install plotly==4.14.3"
      ]
    },
    {
      "cell_type": "code",
      "execution_count": null,
      "metadata": {
        "id": "fL66WuXH9wWc",
        "colab": {
          "base_uri": "https://localhost:8080/"
        },
        "outputId": "0de2c029-73f6-4b32-ed5f-d1b2c675ed75"
      },
      "outputs": [
        {
          "output_type": "execute_result",
          "data": {
            "text/plain": [
              "12109"
            ]
          },
          "metadata": {},
          "execution_count": 20
        }
      ],
      "source": [
        "import json\n",
        "from os import listdir\n",
        "from os.path import isfile, join\n",
        "from collections import Counter\n",
        "import matplotlib.pyplot as plt\n",
        "import plotly.express as px\n",
        "\n",
        "annotation_dir = '/content/mtsd_v2_fully_annotated/annotations'\n",
        "annotations = [ join(annotation_dir, f) for f in listdir(annotation_dir)]\n",
        "\n",
        "ann_json = []\n",
        "classes = []\n",
        "\n",
        "for ann in annotations:\n",
        "  with open(ann, 'r') as f:\n",
        "    anno = json.load(f)\n",
        "    for obj in anno['objects']:\n",
        "      classes.append(obj['label'])"
      ]
    },
    {
      "cell_type": "code",
      "execution_count": null,
      "metadata": {
        "id": "xbfagUwRDo2M",
        "colab": {
          "base_uri": "https://localhost:8080/",
          "height": 577
        },
        "outputId": "674a4911-2586-47ff-9661-811cbcbbec42"
      },
      "outputs": [
        {
          "output_type": "stream",
          "name": "stdout",
          "text": [
            "Count classes 401\n"
          ]
        },
        {
          "output_type": "display_data",
          "data": {
            "text/html": [
              "<html>\n",
              "<head><meta charset=\"utf-8\" /></head>\n",
              "<body>\n",
              "    <div>            <script src=\"https://cdnjs.cloudflare.com/ajax/libs/mathjax/2.7.5/MathJax.js?config=TeX-AMS-MML_SVG\"></script><script type=\"text/javascript\">if (window.MathJax) {MathJax.Hub.Config({SVG: {font: \"STIX-Web\"}});}</script>                <script type=\"text/javascript\">window.PlotlyConfig = {MathJaxConfig: 'local'};</script>\n",
              "        <script src=\"https://cdn.plot.ly/plotly-latest.min.js\"></script>                <div id=\"65d73db7-fe69-489b-88aa-21c2c7e13837\" class=\"plotly-graph-div\" style=\"height:525px; width:100%;\"></div>            <script type=\"text/javascript\">                                    window.PLOTLYENV=window.PLOTLYENV || {};                                    if (document.getElementById(\"65d73db7-fe69-489b-88aa-21c2c7e13837\")) {                    Plotly.newPlot(                        \"65d73db7-fe69-489b-88aa-21c2c7e13837\",                        [{\"alignmentgroup\": \"True\", \"hovertemplate\": \"class=%{x}<br>count=%{y}<extra></extra>\", \"legendgroup\": \"\", \"marker\": {\"color\": \"#636efa\"}, \"name\": \"\", \"offsetgroup\": \"\", \"orientation\": \"v\", \"showlegend\": false, \"textposition\": \"auto\", \"type\": \"bar\", \"x\": [\"warning--wombat-crossing--g1\", \"other-sign\", \"warning--trucks-crossing--g1\", \"regulatory--no-right-turn--g1\", \"warning--pedestrians-crossing--g4\", \"regulatory--maximum-speed-limit-30--g3\", \"complementary--chevron-right--g1\", \"regulatory--stop--g1\", \"warning--road-bump--g1\", \"regulatory--no-stopping--g15\", \"regulatory--no-entry--g1\", \"regulatory--maximum-speed-limit-30--g1\", \"warning--stop-ahead--g9\", \"warning--trams-crossing--g1\", \"regulatory--keep-right--g1\", \"warning--crossroads--g3\", \"warning--traffic-signals--g3\", \"information--parking--g3\", \"warning--slippery-road-surface--g2\", \"regulatory--maximum-speed-limit-25--g2\", \"regulatory--yield--g1\", \"warning--trail-crossing--g2\", \"complementary--keep-left--g1\", \"warning--children--g1\", \"regulatory--no-left-turn--g2\", \"complementary--obstacle-delineator--g2\", \"information--highway-exit--g1\", \"regulatory--maximum-speed-limit-40--g1\", \"information--pedestrians-crossing--g1\", \"information--living-street--g1\", \"complementary--tow-away-zone--g1\", \"information--parking--g1\", \"regulatory--bicycles-only--g1\", \"regulatory--keep-left--g1\", \"regulatory--pedestrians-only--g1\", \"regulatory--shared-path-pedestrians-and-bicycles--g1\", \"regulatory--turn-right--g1\", \"regulatory--roundabout--g1\", \"regulatory--maximum-speed-limit-35--g2\", \"regulatory--no-overtaking--g1\", \"warning--junction-with-a-side-road-perpendicular-right--g1\", \"regulatory--priority-road--g4\", \"regulatory--maximum-speed-limit-10--g1\", \"regulatory--go-straight--g1\", \"warning--winding-road-first-right--g1\", \"warning--traffic-merges-left--g1\", \"warning--bicycles-crossing--g2\", \"regulatory--keep-right--g4\", \"complementary--chevron-right--g3\", \"warning--other-danger--g1\", \"warning--curve-left--g1\", \"regulatory--no-left-turn--g1\", \"regulatory--one-way-right--g3\", \"warning--roundabout--g25\", \"warning--junction-with-a-side-road-perpendicular-right--g3\", \"warning--double-reverse-curve-right--g1\", \"complementary--chevron-left--g4\", \"regulatory--maximum-speed-limit-70--g1\", \"regulatory--buses-only--g1\", \"warning--railroad-crossing-with-barriers--g1\", \"regulatory--no-u-turn--g1\", \"information--interstate-route--g1\", \"regulatory--maximum-speed-limit-55--g2\", \"regulatory--no-heavy-goods-vehicles--g2\", \"warning--traffic-signals--g1\", \"regulatory--no-right-turn--g2\", \"regulatory--turn-left--g1\", \"complementary--chevron-left--g3\", \"regulatory--maximum-speed-limit-50--g1\", \"warning--slippery-road-surface--g1\", \"regulatory--minimum-safe-distance--g1\", \"information--trailer-camping--g1\", \"information--motorway--g1\", \"information--end-of-built-up-area--g1\", \"warning--crossroads--g1\", \"regulatory--no-heavy-goods-vehicles--g1\", \"complementary--trucks-turn-right--g1\", \"regulatory--one-way-right--g1\", \"complementary--buses--g1\", \"warning--roadworks--g4\", \"information--dead-end--g1\", \"regulatory--no-parking--g1\", \"information--safety-area--g2\", \"regulatory--maximum-speed-limit-20--g1\", \"information--children--g1\", \"regulatory--no-overtaking--g2\", \"regulatory--no-overtaking--g5\", \"complementary--obstacle-delineator--g1\", \"warning--pass-left-or-right--g2\", \"regulatory--pedestrians-only--g2\", \"complementary--distance--g1\", \"regulatory--keep-right--g2\", \"warning--double-curve-first-right--g2\", \"warning--railroad-crossing--g3\", \"complementary--chevron-left--g1\", \"regulatory--maximum-speed-limit-60--g1\", \"complementary--go-right--g1\", \"regulatory--pass-on-either-side--g1\", \"regulatory--no-heavy-goods-vehicles--g4\", \"information--end-of-motorway--g1\", \"regulatory--one-way-straight--g1\", \"regulatory--end-of-prohibition--g1\", \"warning--curve-left--g2\", \"information--tram-bus-stop--g2\", \"regulatory--no-parking-or-no-stopping--g1\", \"regulatory--turn-right--g3\", \"warning--steep-ascent--g7\", \"regulatory--no-u-turn--g3\", \"regulatory--maximum-speed-limit-45--g3\", \"regulatory--dual-lanes-turn-left-no-u-turn--g1\", \"information--road-bump--g1\", \"regulatory--one-way-left--g3\", \"complementary--go-left--g1\", \"warning--turn-right--g1\", \"regulatory--no-turn-on-red--g1\", \"warning--railroad-crossing--g4\", \"warning--texts--g2\", \"information--gas-station--g1\", \"regulatory--maximum-speed-limit-80--g1\", \"warning--road-bump--g2\", \"regulatory--no-stopping--g2\", \"warning--roundabout--g1\", \"regulatory--no-overtaking-by-heavy-goods-vehicles--g1\", \"warning--traffic-merges-right--g2\", \"information--limited-access-road--g1\", \"regulatory--one-way-left--g1\", \"warning--road-narrows--g2\", \"warning--accidental-area-unsure--g2\", \"warning--curve-right--g2\", \"regulatory--no-parking--g2\", \"regulatory--no-u-turn--g2\", \"warning--pedestrians-crossing--g1\", \"regulatory--turn-left-ahead--g1\", \"information--emergency-facility--g2\", \"warning--curve-right--g1\", \"information--disabled-persons--g1\", \"information--pedestrians-crossing--g2\", \"regulatory--turn-left--g3\", \"warning--road-widens-right--g1\", \"warning--flaggers-in-road--g1\", \"regulatory--no-motor-vehicles-except-motorcycles--g2\", \"regulatory--left-turn-yield-on-green--g1\", \"regulatory--no-straight-through--g2\", \"information--parking--g6\", \"regulatory--stop-here-on-red-or-flashing-light--g2\", \"warning--crossroads-with-priority-to-the-right--g1\", \"warning--road-narrows-right--g2\", \"regulatory--one-way-left--g2\", \"regulatory--no-parking--g5\", \"warning--kangaloo-crossing--g1\", \"warning--uneven-road--g2\", \"regulatory--no-pedestrians--g2\", \"complementary--chevron-left--g2\", \"warning--narrow-bridge--g3\", \"information--stairs--g1\", \"regulatory--maximum-speed-limit-40--g3\", \"regulatory--reversible-lanes--g2\", \"regulatory--road-closed-to-vehicles--g3\", \"warning--railroad-crossing-without-barriers--g1\", \"warning--texts--g1\", \"complementary--distance--g2\", \"complementary--maximum-speed-limit-45--g1\", \"warning--roadworks--g1\", \"regulatory--no-motorcycles--g2\", \"regulatory--shared-path-bicycles-and-pedestrians--g1\", \"regulatory--one-way-right--g2\", \"complementary--maximum-speed-limit-70--g1\", \"regulatory--turn-left--g2\", \"regulatory--go-straight-or-turn-left--g2\", \"warning--hairpin-curve-right--g1\", \"warning--roadworks--g2\", \"regulatory--no-heavy-goods-vehicles--g5\", \"regulatory--height-limit--g1\", \"complementary--maximum-speed-limit-40--g1\", \"warning--traffic-merges-right--g1\", \"information--hospital--g1\", \"information--bus-stop--g1\", \"warning--children--g2\", \"warning--texts--g3\", \"complementary--maximum-speed-limit-30--g1\", \"regulatory--u-turn--g1\", \"information--parking--g5\", \"regulatory--no-buses--g3\", \"regulatory--no-parking-or-no-stopping--g3\", \"complementary--maximum-speed-limit-25--g1\", \"warning--pass-left-or-right--g1\", \"information--bike-route--g1\", \"warning--junction-with-a-side-road-acute-left--g1\", \"regulatory--end-of-speed-limit-zone--g1\", \"regulatory--end-of-no-parking--g1\", \"warning--bicycles-crossing--g3\", \"information--telephone--g2\", \"regulatory--go-straight-or-turn-right--g3\", \"regulatory--maximum-speed-limit-100--g3\", \"regulatory--no-turn-on-red--g2\", \"warning--double-curve-first-right--g1\", \"warning--winding-road-first-left--g1\", \"warning--pedestrians-crossing--g10\", \"regulatory--maximum-speed-limit-100--g1\", \"regulatory--text-four-lines--g1\", \"warning--t-roads--g1\", \"warning--bus-stop-ahead--g3\", \"warning--two-way-traffic--g1\", \"regulatory--turn-right-ahead--g1\", \"complementary--go-right--g2\", \"regulatory--pass-on-either-side--g2\", \"warning--uneven-road--g6\", \"complementary--pass-right--g1\", \"regulatory--keep-left--g2\", \"regulatory--no-stopping--g5\", \"complementary--except-bicycles--g1\", \"warning--junction-with-a-side-road-acute-right--g1\", \"regulatory--maximum-speed-limit-led-60--g1\", \"warning--roadworks--g6\", \"regulatory--radar-enforced--g1\", \"complementary--maximum-speed-limit-55--g1\", \"warning--school-zone--g2\", \"regulatory--lane-control--g1\", \"regulatory--go-straight--g3\", \"regulatory--maximum-speed-limit-90--g1\", \"regulatory--road-closed--g2\", \"complementary--one-direction-left--g1\", \"regulatory--weight-limit--g1\", \"information--airport--g1\", \"regulatory--end-of-priority-road--g1\", \"warning--junction-with-a-side-road-perpendicular-left--g4\", \"warning--double-curve-first-left--g1\", \"warning--junction-with-a-side-road-perpendicular-left--g3\", \"regulatory--maximum-speed-limit-5--g1\", \"complementary--maximum-speed-limit-35--g1\", \"warning--double-curve-first-left--g2\", \"warning--turn-left--g1\", \"complementary--maximum-speed-limit-15--g1\", \"regulatory--no-overtaking--g4\", \"complementary--chevron-right--g5\", \"complementary--chevron-right-unsure--g6\", \"warning--junction-with-a-side-road-perpendicular-left--g1\", \"warning--pedestrians-crossing--g5\", \"regulatory--no-vehicles-carrying-dangerous-goods--g1\", \"warning--narrow-bridge--g1\", \"regulatory--no-straight-through--g1\", \"complementary--keep-right--g1\", \"complementary--trucks--g1\", \"complementary--chevron-left--g5\", \"regulatory--maximum-speed-limit-120--g1\", \"warning--pedestrians-crossing--g9\", \"warning--divided-highway-ends--g2\", \"warning--railroad-crossing-without-barriers--g4\", \"regulatory--stop--g2\", \"warning--road-narrows-right--g1\", \"warning--horizontal-alignment-right--g1\", \"information--end-of-living-street--g1\", \"regulatory--no-motor-vehicle-trailers--g1\", \"warning--horizontal-alignment-left--g1\", \"complementary--distance--g3\", \"regulatory--dual-lanes-turn-left-or-straight--g1\", \"regulatory--bicycles-only--g2\", \"warning--height-restriction--g2\", \"complementary--chevron-right--g4\", \"regulatory--maximum-speed-limit-50--g6\", \"regulatory--no-turn-on-red--g3\", \"regulatory--do-not-block-intersection--g1\", \"warning--railroad-intersection--g3\", \"regulatory--parking-restrictions--g2\", \"warning--playground--g1\", \"regulatory--road-closed--g1\", \"warning--road-narrows-left--g2\", \"regulatory--no-right-turn--g3\", \"warning--road-narrows--g1\", \"warning--double-turn-first-right--g1\", \"regulatory--maximum-speed-limit-led-80--g1\", \"warning--road-widens--g1\", \"regulatory--wrong-way--g1\", \"warning--traffic-signals--g2\", \"warning--dual-lanes-right-turn-or-go-straight--g1\", \"complementary--extent-of-prohibition-area-both-direction--g1\", \"regulatory--end-of-bicycles-only--g1\", \"regulatory--go-straight-or-turn-right--g1\", \"regulatory--no-motor-vehicles--g1\", \"regulatory--maximum-speed-limit-110--g1\", \"information--parking--g2\", \"warning--added-lane-right--g1\", \"regulatory--maximum-speed-limit-45--g1\", \"regulatory--go-straight-or-turn-left--g1\", \"warning--slippery-motorcycles--g1\", \"regulatory--mopeds-and-bicycles-only--g1\", \"regulatory--no-parking-or-no-stopping--g2\", \"regulatory--maximum-speed-limit-15--g1\", \"warning--railroad-crossing-without-barriers--g3\", \"information--airport--g2\", \"complementary--maximum-speed-limit-20--g1\", \"complementary--both-directions--g1\", \"complementary--one-direction-right--g1\", \"regulatory--priority-over-oncoming-vehicles--g1\", \"warning--other-danger--g3\", \"regulatory--turn-right-ahead--g2\", \"regulatory--no-bicycles--g3\", \"regulatory--no-motorcycles--g1\", \"regulatory--turn-right--g2\", \"warning--domestic-animals--g1\", \"regulatory--go-straight-or-turn-left--g3\", \"regulatory--maximum-speed-limit-led-100--g1\", \"complementary--turn-left--g2\", \"warning--falling-rocks-or-debris-right--g2\", \"regulatory--no-bicycles--g2\", \"regulatory--no-bicycles--g1\", \"warning--dip--g2\", \"warning--roadworks--g3\", \"regulatory--no-motor-vehicles-except-motorcycles--g1\", \"warning--road-narrows-left--g1\", \"regulatory--do-not-stop-on-tracks--g1\", \"warning--winding-road-first-right--g3\", \"warning--offset-roads--g3\", \"regulatory--no-motor-vehicles--g4\", \"warning--hairpin-curve-left--g1\", \"regulatory--stop-here-on-red-or-flashing-light--g1\", \"regulatory--dual-lanes-go-straight-on-right--g1\", \"information--minimum-speed-40--g1\", \"information--food--g2\", \"regulatory--end-of-buses-only--g1\", \"regulatory--road-closed-to-vehicles--g1\", \"regulatory--maximum-speed-limit-40--g6\", \"regulatory--dual-lanes-go-straight-on-left--g1\", \"regulatory--give-way-to-oncoming-traffic--g1\", \"warning--railroad-crossing--g1\", \"warning--turn-right--g2\", \"warning--railroad-crossing-with-barriers--g2\", \"regulatory--no-pedestrians--g1\", \"warning--railroad-crossing-with-barriers--g4\", \"information--end-of-limited-access-road--g1\", \"warning--bicycles-crossing--g1\", \"regulatory--width-limit--g1\", \"warning--domestic-animals--g3\", \"complementary--priority-route-at-intersection--g1\", \"warning--traffic-signals--g4\", \"complementary--maximum-speed-limit-50--g1\", \"information--lodging--g1\", \"warning--horizontal-alignment-right--g3\", \"regulatory--triple-lanes-turn-left-center-lane--g1\", \"regulatory--no-stopping--g8\", \"warning--pedestrian-stumble-train--g1\", \"regulatory--dual-path-pedestrians-and-bicycles--g1\", \"warning--emergency-vehicles--g1\", \"warning--traffic-merges-left--g2\", \"warning--hairpin-curve-left--g3\", \"warning--falling-rocks-or-debris-right--g1\", \"warning--shared-lane-motorcycles-bicycles--g1\", \"regulatory--no-left-turn--g3\", \"warning--t-roads--g2\", \"complementary--turn-right--g2\", \"regulatory--no-pedestrians-or-bicycles--g1\", \"regulatory--keep-right--g6\", \"warning--falling-rocks-or-debris-right--g4\", \"warning--divided-highway-ends--g1\", \"regulatory--dual-path-bicycles-and-pedestrians--g1\", \"warning--wild-animals--g4\", \"warning--winding-road-first-left--g2\", \"information--camp--g1\", \"information--telephone--g1\", \"warning--wild-animals--g1\", \"regulatory--stop-signals--g1\", \"regulatory--no-heavy-goods-vehicles-or-buses--g1\", \"regulatory--end-of-maximum-speed-limit-70--g2\", \"regulatory--end-of-maximum-speed-limit-30--g2\", \"regulatory--stop--g10\", \"regulatory--no-stopping--g4\", \"information--parking--g45\", \"regulatory--passing-lane-ahead--g1\", \"warning--playground--g3\", \"warning--uneven-roads-ahead--g1\", \"complementary--maximum-speed-limit-75--g1\", \"regulatory--no-pedestrians--g3\", \"regulatory--maximum-speed-limit-65--g2\", \"warning--two-way-traffic--g2\", \"warning--y-roads--g1\", \"information--end-of-pedestrians-only--g2\", \"information--central-lane--g1\", \"regulatory--weight-limit-with-trucks--g1\", \"warning--railroad-intersection--g4\", \"information--highway-interstate-route--g2\", \"information--no-parking--g3\", \"warning--loop-270-degree--g1\", \"regulatory--dual-lanes-turn-right-or-straight--g1\", \"warning--pedestrians-crossing--g11\", \"regulatory--maximum-speed-limit-25--g1\", \"regulatory--detour-left--g1\", \"regulatory--bicycles-only--g3\", \"regulatory--truck-speed-limit-60--g1\", \"information--gas-station--g3\", \"regulatory--end-of-maximum-speed-limit-70--g1\", \"regulatory--no-mopeds-or-bicycles--g1\", \"warning--equestrians-crossing--g2\", \"warning--hairpin-curve-right--g4\", \"regulatory--no-turns--g1\", \"warning--pedestrians-crossing--g12\", \"regulatory--roundabout--g2\", \"complementary--accident-area--g3\", \"regulatory--turning-vehicles-yield-to-pedestrians--g1\", \"regulatory--no-hawkers--g1\", \"information--dead-end-except-bicycles--g1\", \"warning--restricted-zone--g1\"], \"xaxis\": \"x\", \"y\": [45, 135958, 134, 340, 1124, 101, 1775, 1386, 426, 1237, 2048, 776, 170, 34, 1242, 174, 247, 248, 240, 212, 2775, 100, 346, 257, 73, 445, 98, 1012, 2187, 77, 146, 1602, 295, 459, 177, 241, 314, 407, 161, 278, 284, 1212, 115, 483, 136, 90, 86, 593, 252, 418, 244, 475, 323, 118, 180, 61, 107, 345, 77, 104, 466, 44, 144, 441, 206, 113, 170, 269, 704, 261, 33, 61, 271, 96, 185, 361, 73, 276, 50, 66, 146, 1195, 96, 239, 85, 226, 379, 202, 137, 70, 183, 84, 120, 60, 1796, 678, 381, 306, 319, 140, 530, 87, 571, 309, 120, 131, 78, 124, 102, 13, 107, 348, 356, 212, 104, 82, 298, 58, 449, 547, 338, 151, 61, 133, 123, 372, 57, 39, 467, 600, 47, 304, 89, 80, 276, 244, 85, 114, 78, 66, 128, 100, 32, 78, 49, 54, 132, 149, 586, 124, 46, 206, 298, 62, 24, 99, 118, 270, 84, 166, 260, 141, 344, 67, 20, 101, 53, 246, 65, 61, 58, 49, 461, 67, 254, 165, 100, 374, 170, 132, 83, 191, 53, 107, 88, 21, 98, 126, 115, 50, 30, 92, 58, 94, 102, 143, 155, 52, 194, 37, 36, 39, 71, 204, 96, 56, 122, 75, 133, 174, 69, 93, 62, 15, 102, 79, 256, 107, 68, 279, 83, 89, 221, 42, 92, 19, 114, 151, 107, 127, 92, 126, 95, 56, 318, 234, 140, 191, 121, 189, 78, 85, 113, 306, 108, 33, 122, 156, 53, 53, 94, 21, 38, 67, 317, 19, 26, 190, 78, 33, 60, 58, 112, 58, 36, 34, 126, 12, 117, 58, 50, 55, 73, 76, 58, 170, 58, 144, 33, 121, 90, 51, 43, 161, 42, 115, 111, 29, 196, 71, 122, 122, 101, 116, 43, 42, 40, 92, 100, 48, 107, 74, 176, 66, 76, 73, 38, 98, 58, 60, 18, 33, 16, 26, 38, 86, 50, 20, 107, 16, 40, 18, 64, 76, 82, 28, 49, 79, 21, 17, 55, 45, 42, 35, 21, 22, 21, 8, 51, 42, 28, 23, 83, 20, 26, 48, 18, 28, 46, 90, 19, 62, 29, 87, 60, 43, 30, 14, 58, 71, 50, 27, 53, 30, 52, 32, 27, 47, 20, 20, 54, 20, 29, 91, 50, 11, 12, 10, 21, 7, 12, 17, 15, 27, 45, 15, 38, 10, 17, 5, 31, 23, 10, 30, 15, 14, 12, 6, 18, 3, 14], \"yaxis\": \"y\"}],                        {\"barmode\": \"relative\", \"legend\": {\"tracegroupgap\": 0}, \"margin\": {\"t\": 60}, \"template\": {\"data\": {\"bar\": [{\"error_x\": {\"color\": \"#2a3f5f\"}, \"error_y\": {\"color\": \"#2a3f5f\"}, \"marker\": {\"line\": {\"color\": \"#E5ECF6\", \"width\": 0.5}}, \"type\": \"bar\"}], \"barpolar\": [{\"marker\": {\"line\": {\"color\": \"#E5ECF6\", \"width\": 0.5}}, \"type\": \"barpolar\"}], \"carpet\": [{\"aaxis\": {\"endlinecolor\": \"#2a3f5f\", \"gridcolor\": \"white\", \"linecolor\": \"white\", \"minorgridcolor\": \"white\", \"startlinecolor\": \"#2a3f5f\"}, \"baxis\": {\"endlinecolor\": \"#2a3f5f\", \"gridcolor\": \"white\", \"linecolor\": \"white\", \"minorgridcolor\": \"white\", \"startlinecolor\": \"#2a3f5f\"}, \"type\": \"carpet\"}], \"choropleth\": [{\"colorbar\": {\"outlinewidth\": 0, \"ticks\": \"\"}, \"type\": \"choropleth\"}], \"contour\": [{\"colorbar\": {\"outlinewidth\": 0, \"ticks\": \"\"}, \"colorscale\": [[0.0, \"#0d0887\"], [0.1111111111111111, \"#46039f\"], [0.2222222222222222, \"#7201a8\"], [0.3333333333333333, \"#9c179e\"], [0.4444444444444444, \"#bd3786\"], [0.5555555555555556, \"#d8576b\"], [0.6666666666666666, \"#ed7953\"], [0.7777777777777778, \"#fb9f3a\"], [0.8888888888888888, \"#fdca26\"], [1.0, \"#f0f921\"]], \"type\": \"contour\"}], \"contourcarpet\": [{\"colorbar\": {\"outlinewidth\": 0, \"ticks\": \"\"}, \"type\": \"contourcarpet\"}], \"heatmap\": [{\"colorbar\": {\"outlinewidth\": 0, \"ticks\": \"\"}, \"colorscale\": [[0.0, \"#0d0887\"], [0.1111111111111111, \"#46039f\"], [0.2222222222222222, \"#7201a8\"], [0.3333333333333333, \"#9c179e\"], [0.4444444444444444, \"#bd3786\"], [0.5555555555555556, \"#d8576b\"], [0.6666666666666666, \"#ed7953\"], [0.7777777777777778, \"#fb9f3a\"], [0.8888888888888888, \"#fdca26\"], [1.0, \"#f0f921\"]], \"type\": \"heatmap\"}], \"heatmapgl\": [{\"colorbar\": {\"outlinewidth\": 0, \"ticks\": \"\"}, \"colorscale\": [[0.0, \"#0d0887\"], [0.1111111111111111, \"#46039f\"], [0.2222222222222222, \"#7201a8\"], [0.3333333333333333, \"#9c179e\"], [0.4444444444444444, \"#bd3786\"], [0.5555555555555556, \"#d8576b\"], [0.6666666666666666, \"#ed7953\"], [0.7777777777777778, \"#fb9f3a\"], [0.8888888888888888, \"#fdca26\"], [1.0, \"#f0f921\"]], \"type\": \"heatmapgl\"}], \"histogram\": [{\"marker\": {\"colorbar\": {\"outlinewidth\": 0, \"ticks\": \"\"}}, \"type\": \"histogram\"}], \"histogram2d\": [{\"colorbar\": {\"outlinewidth\": 0, \"ticks\": \"\"}, \"colorscale\": [[0.0, \"#0d0887\"], [0.1111111111111111, \"#46039f\"], [0.2222222222222222, \"#7201a8\"], [0.3333333333333333, \"#9c179e\"], [0.4444444444444444, \"#bd3786\"], [0.5555555555555556, \"#d8576b\"], [0.6666666666666666, \"#ed7953\"], [0.7777777777777778, \"#fb9f3a\"], [0.8888888888888888, \"#fdca26\"], [1.0, \"#f0f921\"]], \"type\": \"histogram2d\"}], \"histogram2dcontour\": [{\"colorbar\": {\"outlinewidth\": 0, \"ticks\": \"\"}, \"colorscale\": [[0.0, \"#0d0887\"], [0.1111111111111111, \"#46039f\"], [0.2222222222222222, \"#7201a8\"], [0.3333333333333333, \"#9c179e\"], [0.4444444444444444, \"#bd3786\"], [0.5555555555555556, \"#d8576b\"], [0.6666666666666666, \"#ed7953\"], [0.7777777777777778, \"#fb9f3a\"], [0.8888888888888888, \"#fdca26\"], [1.0, \"#f0f921\"]], \"type\": \"histogram2dcontour\"}], \"mesh3d\": [{\"colorbar\": {\"outlinewidth\": 0, \"ticks\": \"\"}, \"type\": \"mesh3d\"}], \"parcoords\": [{\"line\": {\"colorbar\": {\"outlinewidth\": 0, \"ticks\": \"\"}}, \"type\": \"parcoords\"}], \"pie\": [{\"automargin\": true, \"type\": \"pie\"}], \"scatter\": [{\"marker\": {\"colorbar\": {\"outlinewidth\": 0, \"ticks\": \"\"}}, \"type\": \"scatter\"}], \"scatter3d\": [{\"line\": {\"colorbar\": {\"outlinewidth\": 0, \"ticks\": \"\"}}, \"marker\": {\"colorbar\": {\"outlinewidth\": 0, \"ticks\": \"\"}}, \"type\": \"scatter3d\"}], \"scattercarpet\": [{\"marker\": {\"colorbar\": {\"outlinewidth\": 0, \"ticks\": \"\"}}, \"type\": \"scattercarpet\"}], \"scattergeo\": [{\"marker\": {\"colorbar\": {\"outlinewidth\": 0, \"ticks\": \"\"}}, \"type\": \"scattergeo\"}], \"scattergl\": [{\"marker\": {\"colorbar\": {\"outlinewidth\": 0, \"ticks\": \"\"}}, \"type\": \"scattergl\"}], \"scattermapbox\": [{\"marker\": {\"colorbar\": {\"outlinewidth\": 0, \"ticks\": \"\"}}, \"type\": \"scattermapbox\"}], \"scatterpolar\": [{\"marker\": {\"colorbar\": {\"outlinewidth\": 0, \"ticks\": \"\"}}, \"type\": \"scatterpolar\"}], \"scatterpolargl\": [{\"marker\": {\"colorbar\": {\"outlinewidth\": 0, \"ticks\": \"\"}}, \"type\": \"scatterpolargl\"}], \"scatterternary\": [{\"marker\": {\"colorbar\": {\"outlinewidth\": 0, \"ticks\": \"\"}}, \"type\": \"scatterternary\"}], \"surface\": [{\"colorbar\": {\"outlinewidth\": 0, \"ticks\": \"\"}, \"colorscale\": [[0.0, \"#0d0887\"], [0.1111111111111111, \"#46039f\"], [0.2222222222222222, \"#7201a8\"], [0.3333333333333333, \"#9c179e\"], [0.4444444444444444, \"#bd3786\"], [0.5555555555555556, \"#d8576b\"], [0.6666666666666666, \"#ed7953\"], [0.7777777777777778, \"#fb9f3a\"], [0.8888888888888888, \"#fdca26\"], [1.0, \"#f0f921\"]], \"type\": \"surface\"}], \"table\": [{\"cells\": {\"fill\": {\"color\": \"#EBF0F8\"}, \"line\": {\"color\": \"white\"}}, \"header\": {\"fill\": {\"color\": \"#C8D4E3\"}, \"line\": {\"color\": \"white\"}}, \"type\": \"table\"}]}, \"layout\": {\"annotationdefaults\": {\"arrowcolor\": \"#2a3f5f\", \"arrowhead\": 0, \"arrowwidth\": 1}, \"autotypenumbers\": \"strict\", \"coloraxis\": {\"colorbar\": {\"outlinewidth\": 0, \"ticks\": \"\"}}, \"colorscale\": {\"diverging\": [[0, \"#8e0152\"], [0.1, \"#c51b7d\"], [0.2, \"#de77ae\"], [0.3, \"#f1b6da\"], [0.4, \"#fde0ef\"], [0.5, \"#f7f7f7\"], [0.6, \"#e6f5d0\"], [0.7, \"#b8e186\"], [0.8, \"#7fbc41\"], [0.9, \"#4d9221\"], [1, \"#276419\"]], \"sequential\": [[0.0, \"#0d0887\"], [0.1111111111111111, \"#46039f\"], [0.2222222222222222, \"#7201a8\"], [0.3333333333333333, \"#9c179e\"], [0.4444444444444444, \"#bd3786\"], [0.5555555555555556, \"#d8576b\"], [0.6666666666666666, \"#ed7953\"], [0.7777777777777778, \"#fb9f3a\"], [0.8888888888888888, \"#fdca26\"], [1.0, \"#f0f921\"]], \"sequentialminus\": [[0.0, \"#0d0887\"], [0.1111111111111111, \"#46039f\"], [0.2222222222222222, \"#7201a8\"], [0.3333333333333333, \"#9c179e\"], [0.4444444444444444, \"#bd3786\"], [0.5555555555555556, \"#d8576b\"], [0.6666666666666666, \"#ed7953\"], [0.7777777777777778, \"#fb9f3a\"], [0.8888888888888888, \"#fdca26\"], [1.0, \"#f0f921\"]]}, \"colorway\": [\"#636efa\", \"#EF553B\", \"#00cc96\", \"#ab63fa\", \"#FFA15A\", \"#19d3f3\", \"#FF6692\", \"#B6E880\", \"#FF97FF\", \"#FECB52\"], \"font\": {\"color\": \"#2a3f5f\"}, \"geo\": {\"bgcolor\": \"white\", \"lakecolor\": \"white\", \"landcolor\": \"#E5ECF6\", \"showlakes\": true, \"showland\": true, \"subunitcolor\": \"white\"}, \"hoverlabel\": {\"align\": \"left\"}, \"hovermode\": \"closest\", \"mapbox\": {\"style\": \"light\"}, \"paper_bgcolor\": \"white\", \"plot_bgcolor\": \"#E5ECF6\", \"polar\": {\"angularaxis\": {\"gridcolor\": \"white\", \"linecolor\": \"white\", \"ticks\": \"\"}, \"bgcolor\": \"#E5ECF6\", \"radialaxis\": {\"gridcolor\": \"white\", \"linecolor\": \"white\", \"ticks\": \"\"}}, \"scene\": {\"xaxis\": {\"backgroundcolor\": \"#E5ECF6\", \"gridcolor\": \"white\", \"gridwidth\": 2, \"linecolor\": \"white\", \"showbackground\": true, \"ticks\": \"\", \"zerolinecolor\": \"white\"}, \"yaxis\": {\"backgroundcolor\": \"#E5ECF6\", \"gridcolor\": \"white\", \"gridwidth\": 2, \"linecolor\": \"white\", \"showbackground\": true, \"ticks\": \"\", \"zerolinecolor\": \"white\"}, \"zaxis\": {\"backgroundcolor\": \"#E5ECF6\", \"gridcolor\": \"white\", \"gridwidth\": 2, \"linecolor\": \"white\", \"showbackground\": true, \"ticks\": \"\", \"zerolinecolor\": \"white\"}}, \"shapedefaults\": {\"line\": {\"color\": \"#2a3f5f\"}}, \"ternary\": {\"aaxis\": {\"gridcolor\": \"white\", \"linecolor\": \"white\", \"ticks\": \"\"}, \"baxis\": {\"gridcolor\": \"white\", \"linecolor\": \"white\", \"ticks\": \"\"}, \"bgcolor\": \"#E5ECF6\", \"caxis\": {\"gridcolor\": \"white\", \"linecolor\": \"white\", \"ticks\": \"\"}}, \"title\": {\"x\": 0.05}, \"xaxis\": {\"automargin\": true, \"gridcolor\": \"white\", \"linecolor\": \"white\", \"ticks\": \"\", \"title\": {\"standoff\": 15}, \"zerolinecolor\": \"white\", \"zerolinewidth\": 2}, \"yaxis\": {\"automargin\": true, \"gridcolor\": \"white\", \"linecolor\": \"white\", \"ticks\": \"\", \"title\": {\"standoff\": 15}, \"zerolinecolor\": \"white\", \"zerolinewidth\": 2}}}, \"xaxis\": {\"anchor\": \"y\", \"domain\": [0.0, 1.0], \"title\": {\"text\": \"class\"}}, \"yaxis\": {\"anchor\": \"x\", \"domain\": [0.0, 1.0], \"title\": {\"text\": \"count\"}}},                        {\"responsive\": true}                    ).then(function(){\n",
              "                            \n",
              "var gd = document.getElementById('65d73db7-fe69-489b-88aa-21c2c7e13837');\n",
              "var x = new MutationObserver(function (mutations, observer) {{\n",
              "        var display = window.getComputedStyle(gd).display;\n",
              "        if (!display || display === 'none') {{\n",
              "            console.log([gd, 'removed!']);\n",
              "            Plotly.purge(gd);\n",
              "            observer.disconnect();\n",
              "        }}\n",
              "}});\n",
              "\n",
              "// Listen for the removal of the full notebook cells\n",
              "var notebookContainer = gd.closest('#notebook-container');\n",
              "if (notebookContainer) {{\n",
              "    x.observe(notebookContainer, {childList: true});\n",
              "}}\n",
              "\n",
              "// Listen for the clearing of the current output cell\n",
              "var outputEl = gd.closest('.output');\n",
              "if (outputEl) {{\n",
              "    x.observe(outputEl, {childList: true});\n",
              "}}\n",
              "\n",
              "                        })                };                            </script>        </div>\n",
              "</body>\n",
              "</html>"
            ]
          },
          "metadata": {}
        },
        {
          "output_type": "execute_result",
          "data": {
            "text/plain": [
              "46"
            ]
          },
          "metadata": {},
          "execution_count": 16
        }
      ],
      "source": [
        "print(\"Count classes\", len(set(classes)))\n",
        "CLASSES = list(set(classes))\n",
        "\n",
        "only_speed_limits_classes = [ cls for cls in CLASSES if 'speed' in cls]\n",
        "\n",
        "with open('classes.txt', 'w') as f:\n",
        "   for cls in CLASSES:\n",
        "        # write each item on a new line\n",
        "        f.write(\"%s\\n\" % cls)\n",
        "\n",
        "classes_dict = Counter(classes)\n",
        "fig_dict = {'class': list(classes_dict.keys()), 'count': list(classes_dict.values())}\n",
        "fig = px.bar(fig_dict, x='class', y='count')\n",
        "fig.show()\n",
        "len(only_speed_limits_classes)"
      ]
    },
    {
      "cell_type": "code",
      "execution_count": null,
      "metadata": {
        "id": "SaKYzKfd9wf3"
      },
      "outputs": [],
      "source": [
        ""
      ]
    },
    {
      "cell_type": "markdown",
      "metadata": {
        "id": "vO3zsrILMtB8"
      },
      "source": [
        "# Convert dataset in YoloV5 format"
      ]
    },
    {
      "cell_type": "code",
      "execution_count": null,
      "metadata": {
        "id": "lKxEq3499wl3"
      },
      "outputs": [],
      "source": [
        "classes_file = '/content/gdrive/MyDrive/Diplom/classes.txt'\n",
        "\n",
        "with open(classes_file, 'r') as f:\n",
        "  CLASSES = [ cls.strip() for cls in f.readlines()]\n",
        "\n",
        "CLASSES\n"
      ]
    },
    {
      "cell_type": "code",
      "execution_count": null,
      "metadata": {
        "id": "qr_sO2-DNcPg"
      },
      "outputs": [],
      "source": [
        "import os\n",
        "import shutil\n",
        "import json\n",
        "dataset_dir = os.path.join('/content/gdrive/MyDrive/Diplom', 'dataset')\n",
        "\n",
        "train_dataset_dir = os.path.join(dataset_dir, 'train')\n",
        "train_dataset_images = os.path.join(train_dataset_dir, 'images')\n",
        "train_dataset_labels = os.path.join(train_dataset_dir, 'labels')\n",
        "\n",
        "val_dataset_dir = os.path.join(dataset_dir, 'val')\n",
        "val_dataset_images = os.path.join(val_dataset_dir, 'images')\n",
        "val_dataset_labels = os.path.join(val_dataset_dir, 'labels')\n",
        "\n",
        "def create_dir(path):\n",
        "  if not os.path.exists(path):\n",
        "    os.mkdir(path)\n",
        "\n",
        "create_dir(dataset_dir)\n",
        "\n",
        "create_dir(train_dataset_dir)\n",
        "create_dir(train_dataset_images)\n",
        "create_dir(train_dataset_labels)\n",
        "\n",
        "create_dir(val_dataset_dir)\n",
        "create_dir(val_dataset_images)\n",
        "create_dir(val_dataset_labels)\n",
        "\n",
        "images_dir = '/content/images'\n",
        "annotation_dir = '/content/mtsd_v2_fully_annotated/annotations'\n",
        "val_dir = '/content/val_images/images'\n",
        "annotations = [ os.path.join(annotation_dir, f) for f in os.listdir(annotation_dir)]"
      ]
    },
    {
      "cell_type": "code",
      "execution_count": null,
      "metadata": {
        "id": "NBG38l8soDoJ"
      },
      "outputs": [],
      "source": [
        "def create_dataset(images_dir, train_dataset_images, train_dataset_labels):\n",
        "  for ann in annotations:\n",
        "    image_name = ann.split(\"/\")[-1].split(\".\")[0]\n",
        "    if not os.path.exists(os.path.join(images_dir, image_name + '.jpg')):   # change images_dir\n",
        "      #print(f\"Image {image_name} doesn't exist\")\n",
        "      continue\n",
        "    \n",
        "    image_path = os.path.join(images_dir, image_name + '.jpg')                        # change images_dir\n",
        "    shutil.copy(image_path, os.path.join(train_dataset_images, image_name + '.jpg'))  # change train_dataset_images\n",
        "    os.remove(image_path)\n",
        "    text_labels = []\n",
        "    with open(ann, 'r') as fid:\n",
        "      anno = json.load(fid)\n",
        "      width = anno['width']\n",
        "      height = anno['height']\n",
        "      for obj in anno['objects']:\n",
        "        x1 = obj['bbox']['xmin']\n",
        "        y1 = obj['bbox']['ymin']\n",
        "        x2 = obj['bbox']['xmax']\n",
        "        y2 = obj['bbox']['ymax']\n",
        "\n",
        "        class_name = obj['label']\n",
        "\n",
        "        x_center = float(((x2 - x1) / 2 + x1) / width)\n",
        "        y_center = float(((y2 - y1) / 2 + y1) / height)\n",
        "\n",
        "        width_box = float((x2 - x1) / width)\n",
        "        height_box = float((y2 - y1) / height)\n",
        "\n",
        "        text_labels.append(f'{CLASSES.index(class_name)} {x_center} {y_center} {width_box} {height_box}')\n",
        "    \n",
        "    with open(os.path.join(train_dataset_labels, image_name + '.txt'), 'w') as label_file:   # change train_dataset_labels\n",
        "      for label in text_labels:\n",
        "        label_file.write(label + '\\n')\n",
        "  \n"
      ]
    },
    {
      "cell_type": "code",
      "execution_count": null,
      "metadata": {
        "id": "oe9dw-x7NcXf"
      },
      "outputs": [],
      "source": [
        "# create train dataset\n",
        "create_dataset(images_dir, train_dataset_images, train_dataset_labels)\n",
        "# create val dataset\n",
        "create_dataset(val_dir, val_dataset_images, val_dataset_labels)"
      ]
    },
    {
      "cell_type": "code",
      "execution_count": null,
      "metadata": {
        "colab": {
          "base_uri": "https://localhost:8080/"
        },
        "id": "h86CC6pww4gz",
        "outputId": "e652bd17-867d-431e-a936-65b6e2a9baae"
      },
      "outputs": [
        {
          "output_type": "stream",
          "name": "stdout",
          "text": [
            "10892\n",
            "10891\n",
            "0\n",
            "0\n"
          ]
        }
      ],
      "source": [
        "!ls /content/drive/MyDrive/Diplom/dataset/train/images | wc -l\n",
        "!ls /content/drive/MyDrive/Diplom/dataset/train/labels | wc -l\n",
        "\n",
        "!ls /content/drive/MyDrive/Diplom/dataset/val/images | wc -l\n",
        "!ls /content/drive/MyDrive/Diplom/dataset/val/labels | wc -l"
      ]
    },
    {
      "cell_type": "markdown",
      "metadata": {
        "id": "vYVtQ5vEC_gS"
      },
      "source": [
        "#Convert dataset in Yolov5 format (German Traffic sign dataset)"
      ]
    },
    {
      "cell_type": "code",
      "execution_count": null,
      "metadata": {
        "id": "ygG00smfDFMa"
      },
      "outputs": [],
      "source": [
        "import csv\n",
        "import os\n",
        "import shutil\n",
        "\n",
        "def create_dir(path):\n",
        "  if not os.path.exists(path):\n",
        "    os.mkdir(path)\n",
        "\n",
        "dataset_dir = 'dataset'\n",
        "\n",
        "train_dir = 'train'\n",
        "val_dir = 'val'\n",
        "\n",
        "dataset_train = os.path.join(dataset_dir, train_dir)\n",
        "dataset_val = os.path.join(dataset_dir, val_dir)\n",
        "\n",
        "train_images_dir = os.path.join(dataset_train, 'images')\n",
        "train_labels_dir = os.path.join(dataset_train, 'labels')\n",
        "\n",
        "val_images_dir = os.path.join(dataset_val, 'images')\n",
        "val_labels_dir = os.path.join(dataset_val, 'labels')\n",
        "\n",
        "create_dir(dataset_dir)\n",
        "\n",
        "create_dir(dataset_train)\n",
        "create_dir(dataset_val)\n",
        "\n",
        "create_dir(train_images_dir)\n",
        "create_dir(train_labels_dir)\n",
        "\n",
        "create_dir(val_images_dir)\n",
        "create_dir(val_labels_dir)\n",
        "\n",
        "def create_dataset(csv_path, images_dir, labels_dir):\n",
        "  with open(csv_path, mode='r') as csv_file:\n",
        "    csv_reader = csv.DictReader(csv_file)\n",
        "    for row in csv_reader:\n",
        "      shutil.copyfile(row['Path'], os.path.join(images_dir, row['Path'].split('/')[-1]))     \n",
        "      label_name = row['Path'].split('/')[-1].split('.')[0] + '.txt'\n",
        "\n",
        "      x1 = int(row['Roi.X1'])\n",
        "      y1 = int(row['Roi.Y1'])\n",
        "\n",
        "      x2 = int(row['Roi.X2'])\n",
        "      y2 = int(row['Roi.Y2'])\n",
        "\n",
        "      width = int(row['Width'])\n",
        "      height = int(row['Height'])\n",
        "\n",
        "      x_center = ((x2 - x1) / 2 + x1) / width\n",
        "      y_center = ((y2 - y1) / 2 + y1) / height\n",
        "\n",
        "      width = (x2 - x1) / width\n",
        "      height = (y2 - y1) / height\n",
        "\n",
        "      with open(os.path.join(labels_dir, label_name), 'w') as f:  \n",
        "        f.write(f\"{row['ClassId']} {x_center} {y_center} {width} {height}\")\n",
        "\n",
        "\n",
        "create_dataset('Train.csv', train_images_dir, train_labels_dir)\n",
        "create_dataset('Test.csv', val_images_dir, val_labels_dir)"
      ]
    },
    {
      "cell_type": "code",
      "execution_count": null,
      "metadata": {
        "colab": {
          "base_uri": "https://localhost:8080/"
        },
        "id": "tw6rJ-KVHElY",
        "outputId": "99cfae61-e1af-4e54-e2ab-5181e79d62b3"
      },
      "outputs": [
        {
          "name": "stdout",
          "output_type": "stream",
          "text": [
            "['Speed limit (20km/h)', 'Speed limit (30km/h)', 'Speed limit (50km/h)', 'Speed limit (60km/h)', 'Speed limit (70km/h)', 'Speed limit (80km/h)', 'End of speed limit (80km/h)', 'Speed limit (100km/h)', 'Speed limit (120km/h)', 'No passing', 'No passing veh over 3.5 tons', 'Right-of-way at intersection', 'Priority road', 'Yield', 'Stop', 'No vehicles', 'Veh > 3.5 tons prohibited', 'No entry', 'General caution', 'Dangerous curve left', 'Dangerous curve right', 'Double curve', 'Bumpy road', 'Slippery road', 'Road narrows on the right', 'Road work', 'Traffic signals', 'Pedestrians', 'Children crossing', 'Bicycles crossing', 'Beware of ice/snow', 'Wild animals crossing', 'End speed + passing limits', 'Turn right ahead', 'Turn left ahead', 'Ahead only', 'Go straight or right', 'Go straight or left', 'Keep right', 'Keep left', 'Roundabout mandatory', 'End of no passing', 'End no passing veh > 3.5 tons']\n"
          ]
        },
        {
          "data": {
            "text/plain": [
              "43"
            ]
          },
          "execution_count": 56,
          "metadata": {},
          "output_type": "execute_result"
        }
      ],
      "source": [
        "# Label Overview\n",
        "classes = { 0:'Speed limit (20km/h)',\n",
        "            1:'Speed limit (30km/h)', \n",
        "            2:'Speed limit (50km/h)', \n",
        "            3:'Speed limit (60km/h)', \n",
        "            4:'Speed limit (70km/h)', \n",
        "            5:'Speed limit (80km/h)', \n",
        "            6:'End of speed limit (80km/h)', \n",
        "            7:'Speed limit (100km/h)', \n",
        "            8:'Speed limit (120km/h)', \n",
        "            9:'No passing', \n",
        "            10:'No passing veh over 3.5 tons', \n",
        "            11:'Right-of-way at intersection', \n",
        "            12:'Priority road', \n",
        "            13:'Yield', \n",
        "            14:'Stop', \n",
        "            15:'No vehicles', \n",
        "            16:'Veh > 3.5 tons prohibited', \n",
        "            17:'No entry', \n",
        "            18:'General caution', \n",
        "            19:'Dangerous curve left', \n",
        "            20:'Dangerous curve right', \n",
        "            21:'Double curve', \n",
        "            22:'Bumpy road', \n",
        "            23:'Slippery road', \n",
        "            24:'Road narrows on the right', \n",
        "            25:'Road work', \n",
        "            26:'Traffic signals', \n",
        "            27:'Pedestrians', \n",
        "            28:'Children crossing', \n",
        "            29:'Bicycles crossing', \n",
        "            30:'Beware of ice/snow',\n",
        "            31:'Wild animals crossing', \n",
        "            32:'End speed + passing limits', \n",
        "            33:'Turn right ahead', \n",
        "            34:'Turn left ahead', \n",
        "            35:'Ahead only', \n",
        "            36:'Go straight or right', \n",
        "            37:'Go straight or left', \n",
        "            38:'Keep right', \n",
        "            39:'Keep left', \n",
        "            40:'Roundabout mandatory', \n",
        "            41:'End of no passing', \n",
        "            42:'End no passing veh > 3.5 tons' }\n",
        "print(list(classes.values()))\n",
        "len(['Speed limit (20km/h)', 'Speed limit (30km/h)', 'Speed limit (50km/h)',\n",
        " 'Speed limit (60km/h)', 'Speed limit (70km/h)', 'Speed limit (80km/h)', \n",
        " 'End of speed limit (80km/h)', 'Speed limit (100km/h)', 'Speed limit (120km/h)', \n",
        " 'No passing', 'No passing veh over 3.5 tons', 'Right-of-way at intersection', \n",
        " 'Priority road', 'Yield', 'Stop', 'No vehicles', 'Veh > 3.5 tons prohibited', \n",
        " 'No entry', 'General caution', 'Dangerous curve left', 'Dangerous curve right', \n",
        " 'Double curve', 'Bumpy road', 'Slippery road', 'Road narrows on the right', 'Road work', \n",
        " 'Traffic signals', 'Pedestrians', 'Children crossing', 'Bicycles crossing', 'Beware of ice/snow', \n",
        " 'Wild animals crossing', 'End speed + passing limits', 'Turn right ahead', 'Turn left ahead', \n",
        " 'Ahead only', 'Go straight or right', 'Go straight or left', 'Keep right', 'Keep left', \n",
        " 'Roundabout mandatory', 'End of no passing', 'End no passing veh > 3.5 tons'])"
      ]
    },
    {
      "cell_type": "code",
      "execution_count": null,
      "metadata": {
        "colab": {
          "base_uri": "https://localhost:8080/"
        },
        "id": "t2cwZIIXG-Yb",
        "outputId": "bd1eeecd-ed8d-48ec-9772-a3c894d40b0c"
      },
      "outputs": [
        {
          "name": "stdout",
          "output_type": "stream",
          "text": [
            "39209\n",
            "39209\n",
            "12630\n",
            "12630\n"
          ]
        }
      ],
      "source": [
        "# count files\n",
        "!find /content/dataset/train/images -type f | wc -l\n",
        "!find /content/dataset/train/labels -type f | wc -l\n",
        "\n",
        "!find /content/dataset/val/images -type f | wc -l\n",
        "!find /content/dataset/val/labels -type f | wc -l"
      ]
    },
    {
      "cell_type": "markdown",
      "source": [
        "# Train model"
      ],
      "metadata": {
        "id": "0snuTgWCaNTW"
      }
    },
    {
      "cell_type": "code",
      "source": [
        "!git clone https://github.com/ultralytics/yolov5  # clone repo\n",
        "!pip install -r yolov5/requirements.txt  # install"
      ],
      "metadata": {
        "id": "fQI3tZrhjzf_"
      },
      "execution_count": null,
      "outputs": []
    },
    {
      "cell_type": "code",
      "source": [
        "!ls /content/gdrive/MyDrive/Diplom/dataset/train/images | wc -l\n",
        "!ls /content/gdrive/MyDrive/Diplom/dataset/train/labels | wc -l\n",
        "\n",
        "!ls /content/gdrive/MyDrive/Diplom/dataset/val/images | wc -l\n",
        "!ls /content/gdrive/MyDrive/Diplom/dataset/val/labels | wc -l"
      ],
      "metadata": {
        "colab": {
          "base_uri": "https://localhost:8080/"
        },
        "id": "8oBOzGafkYMS",
        "outputId": "7a6927fb-a332-49f1-aaca-6e7ce7ea4a0d"
      },
      "execution_count": null,
      "outputs": [
        {
          "output_type": "stream",
          "name": "stdout",
          "text": [
            "10892\n",
            "10891\n",
            "0\n",
            "0\n"
          ]
        }
      ]
    },
    {
      "cell_type": "code",
      "execution_count": null,
      "metadata": {
        "colab": {
          "base_uri": "https://localhost:8080/"
        },
        "id": "I43b0bmclanC",
        "outputId": "b58f56c4-f470-4faf-a2a7-8b99612ec2f6"
      },
      "outputs": [
        {
          "output_type": "stream",
          "name": "stdout",
          "text": [
            "\u001b[34m\u001b[1mtrain: \u001b[0mweights=yolov5s.pt, cfg=, data=/content/drive/MyDrive/Diplom/dataset_diplom.yaml, hyp=yolov5/data/hyps/hyp.scratch-low.yaml, epochs=5, batch_size=16, imgsz=1920, rect=False, resume=False, nosave=False, noval=False, noautoanchor=False, noplots=False, evolve=None, bucket=, cache=None, image_weights=False, device=, multi_scale=False, single_cls=False, optimizer=SGD, sync_bn=False, workers=8, project=yolov5/runs/train, name=exp, exist_ok=False, quad=False, cos_lr=False, label_smoothing=0.0, patience=100, freeze=[0], save_period=-1, local_rank=-1, entity=None, upload_dataset=False, bbox_interval=-1, artifact_alias=latest\n",
            "\u001b[34m\u001b[1mgithub: \u001b[0mup to date with https://github.com/ultralytics/yolov5 ✅\n",
            "YOLOv5 🚀 v6.1-221-gd07f9ce Python-3.7.13 torch-1.11.0+cu113 CUDA:0 (Tesla T4, 15110MiB)\n",
            "\n",
            "\u001b[34m\u001b[1mhyperparameters: \u001b[0mlr0=0.01, lrf=0.01, momentum=0.937, weight_decay=0.0005, warmup_epochs=3.0, warmup_momentum=0.8, warmup_bias_lr=0.1, box=0.05, cls=0.5, cls_pw=1.0, obj=1.0, obj_pw=1.0, iou_t=0.2, anchor_t=4.0, fl_gamma=0.0, hsv_h=0.015, hsv_s=0.7, hsv_v=0.4, degrees=0.0, translate=0.1, scale=0.5, shear=0.0, perspective=0.0, flipud=0.0, fliplr=0.5, mosaic=1.0, mixup=0.0, copy_paste=0.0\n",
            "\u001b[34m\u001b[1mWeights & Biases: \u001b[0mrun 'pip install wandb' to automatically track and visualize YOLOv5 🚀 runs (RECOMMENDED)\n",
            "\u001b[34m\u001b[1mTensorBoard: \u001b[0mStart with 'tensorboard --logdir yolov5/runs/train', view at http://localhost:6006/\n",
            "Downloading https://ultralytics.com/assets/Arial.ttf to /root/.config/Ultralytics/Arial.ttf...\n",
            "100% 755k/755k [00:00<00:00, 17.2MB/s]\n",
            "Downloading https://github.com/ultralytics/yolov5/releases/download/v6.1/yolov5s.pt to yolov5s.pt...\n",
            "100% 14.1M/14.1M [00:00<00:00, 120MB/s]\n",
            "\n",
            "Overriding model.yaml nc=80 with nc=401\n",
            "\n",
            "                 from  n    params  module                                  arguments                     \n",
            "  0                -1  1      3520  models.common.Conv                      [3, 32, 6, 2, 2]              \n",
            "  1                -1  1     18560  models.common.Conv                      [32, 64, 3, 2]                \n",
            "  2                -1  1     18816  models.common.C3                        [64, 64, 1]                   \n",
            "  3                -1  1     73984  models.common.Conv                      [64, 128, 3, 2]               \n",
            "  4                -1  2    115712  models.common.C3                        [128, 128, 2]                 \n",
            "  5                -1  1    295424  models.common.Conv                      [128, 256, 3, 2]              \n",
            "  6                -1  3    625152  models.common.C3                        [256, 256, 3]                 \n",
            "  7                -1  1   1180672  models.common.Conv                      [256, 512, 3, 2]              \n",
            "  8                -1  1   1182720  models.common.C3                        [512, 512, 1]                 \n",
            "  9                -1  1    656896  models.common.SPPF                      [512, 512, 5]                 \n",
            " 10                -1  1    131584  models.common.Conv                      [512, 256, 1, 1]              \n",
            " 11                -1  1         0  torch.nn.modules.upsampling.Upsample    [None, 2, 'nearest']          \n",
            " 12           [-1, 6]  1         0  models.common.Concat                    [1]                           \n",
            " 13                -1  1    361984  models.common.C3                        [512, 256, 1, False]          \n",
            " 14                -1  1     33024  models.common.Conv                      [256, 128, 1, 1]              \n",
            " 15                -1  1         0  torch.nn.modules.upsampling.Upsample    [None, 2, 'nearest']          \n",
            " 16           [-1, 4]  1         0  models.common.Concat                    [1]                           \n",
            " 17                -1  1     90880  models.common.C3                        [256, 128, 1, False]          \n",
            " 18                -1  1    147712  models.common.Conv                      [128, 128, 3, 2]              \n",
            " 19          [-1, 14]  1         0  models.common.Concat                    [1]                           \n",
            " 20                -1  1    296448  models.common.C3                        [256, 256, 1, False]          \n",
            " 21                -1  1    590336  models.common.Conv                      [256, 256, 3, 2]              \n",
            " 22          [-1, 10]  1         0  models.common.Concat                    [1]                           \n",
            " 23                -1  1   1182720  models.common.C3                        [512, 512, 1, False]          \n",
            " 24      [17, 20, 23]  1   1094982  models.yolo.Detect                      [401, [[10, 13, 16, 30, 33, 23], [30, 61, 62, 45, 59, 119], [116, 90, 156, 198, 373, 326]], [128, 256, 512]]\n",
            "Model summary: 270 layers, 8101126 parameters, 8101126 gradients, 19.3 GFLOPs\n",
            "\n",
            "Transferred 343/349 items from yolov5s.pt\n",
            "\u001b[34m\u001b[1mAMP: \u001b[0mchecks passed ✅\n",
            "Scaled weight_decay = 0.0005\n",
            "\u001b[34m\u001b[1moptimizer:\u001b[0m SGD with parameter groups 57 weight (no decay), 60 weight, 60 bias\n",
            "\u001b[34m\u001b[1malbumentations: \u001b[0mversion 1.0.3 required by YOLOv5, but version 0.1.12 is currently installed\n",
            "\u001b[34m\u001b[1mtrain: \u001b[0mScanning '/content/drive/MyDrive/Diplom/dataset/train/labels' images and labels...109 found, 0 missing, 1 empty, 0 corrupt:   1% 109/10892 [02:20<42:29:01, 14.18s/it]"
          ]
        }
      ],
      "source": [
        "!python yolov5/train.py --img 1920 --batch 16 --epochs 5 --data /content/drive/MyDrive/Diplom/dataset_diplom.yaml --weights yolov5s.pt"
      ]
    },
    {
      "cell_type": "code",
      "execution_count": null,
      "metadata": {
        "id": "hil7n4lUkBw2"
      },
      "outputs": [],
      "source": [
        ""
      ]
    },
    {
      "cell_type": "code",
      "execution_count": null,
      "metadata": {
        "id": "K_aX5kGpjteU"
      },
      "outputs": [],
      "source": [
        ""
      ]
    },
    {
      "cell_type": "code",
      "execution_count": null,
      "metadata": {
        "id": "IhBMTXtw3Bxz"
      },
      "outputs": [],
      "source": [
        "with open('/content/drive/MyDrive/Diplom/test.txt', 'w') as file:\n",
        "  file.write(\"asdasdasd\")"
      ]
    },
    {
      "cell_type": "code",
      "execution_count": null,
      "metadata": {
        "id": "ohNeKpGQ3B0f"
      },
      "outputs": [],
      "source": [
        ""
      ]
    },
    {
      "cell_type": "code",
      "execution_count": null,
      "metadata": {
        "id": "IKKwPMCe3B3D"
      },
      "outputs": [],
      "source": [
        ""
      ]
    },
    {
      "cell_type": "code",
      "execution_count": null,
      "metadata": {
        "id": "LVd-weHg3B5j"
      },
      "outputs": [],
      "source": [
        ""
      ]
    },
    {
      "cell_type": "markdown",
      "metadata": {
        "id": "cOgGD-Xx3CXM"
      },
      "source": [
        "## Check correct created dataset"
      ]
    },
    {
      "cell_type": "code",
      "source": [
        "import cv2\n",
        "from google.colab.patches import cv2_imshow\n",
        "import json\n",
        "\n",
        "\n",
        "classes_file = '/content/gdrive/MyDrive/Diplom/classes.txt'\n",
        "\n",
        "with open(classes_file, 'r') as f:\n",
        "  CLASSES = [ cls.strip() for cls in f.readlines()]\n",
        "\n",
        "\n",
        "img = cv2.imread('/content/-3heY6kZhu6sy-09K82YsQ.jpg')\n",
        "ann = '/content/-3heY6kZhu6sy-09K82YsQ.json'\n",
        "\n",
        "print(\"img shape\", img.shape)\n",
        "height, width = img.shape[:2]\n",
        "\n",
        "text_labels = []\n",
        "with open(ann, 'r') as fid:\n",
        "  anno = json.load(fid)\n",
        "  width = anno['width']\n",
        "  height = anno['height']\n",
        "  for obj in anno['objects']:\n",
        "    coord = {}\n",
        "    x1 = obj['bbox']['xmin']\n",
        "    y1 = obj['bbox']['ymin']\n",
        "    x2 = obj['bbox']['xmax']\n",
        "    y2 = obj['bbox']['ymax']\n",
        "\n",
        "    class_name = obj['label']\n",
        "\n",
        "    x_center = float(((x2 - x1) / 2 + x1) / width)\n",
        "    y_center = float(((y2 - y1) / 2 + y1) / height)\n",
        "\n",
        "    width_box = float((x2 - x1) / width)\n",
        "    height_box = float((y2 - y1) / height)\n",
        "\n",
        "    coord['class'] = CLASSES.index(class_name)\n",
        "    coord['x_center'] = x_center\n",
        "    coord['y_center'] = y_center\n",
        "    coord['width_box'] = width_box\n",
        "    coord['height_box'] = height_box\n",
        "    text_labels.append(coord)\n",
        "\n",
        "\n",
        "for label in text_labels:\n",
        "  print(label )\n",
        "  label_width = label['width_box'] * width\n",
        "  label_height = label['height_box'] * height\n",
        "\n",
        "  x1 = int(label['x_center'] * width - label_width / 2)\n",
        "  y1 = int(label['y_center'] * height - label_height / 2)\n",
        "\n",
        "  x2 = int(label['x_center'] * width + label_width / 2)\n",
        "  y2 = int(label['y_center'] * height + label_height / 2)\n",
        "\n",
        "  new_img = cv2.rectangle(img, (x1, y1), (x2, y2), color=(37, 37, 236), thickness=15)\n",
        "  print(x1, y1, x2, y2)\n",
        "\n",
        "cv2\n",
        "cv2_imshow(new_img)"
      ],
      "metadata": {
        "id": "MeqiedBzCoUP"
      },
      "execution_count": null,
      "outputs": []
    },
    {
      "cell_type": "code",
      "source": [
        ""
      ],
      "metadata": {
        "id": "9HbCTbZtKSko"
      },
      "execution_count": null,
      "outputs": []
    },
    {
      "cell_type": "code",
      "source": [
        ""
      ],
      "metadata": {
        "id": "SpDiFqI3KSnB"
      },
      "execution_count": null,
      "outputs": []
    },
    {
      "cell_type": "code",
      "source": [
        ""
      ],
      "metadata": {
        "id": "lRd8GHhPKSp0"
      },
      "execution_count": null,
      "outputs": []
    },
    {
      "cell_type": "code",
      "source": [
        ""
      ],
      "metadata": {
        "id": "QnRjhoAWKSsK"
      },
      "execution_count": null,
      "outputs": []
    },
    {
      "cell_type": "code",
      "source": [
        ""
      ],
      "metadata": {
        "id": "moBeb06DKSuj"
      },
      "execution_count": null,
      "outputs": []
    },
    {
      "cell_type": "code",
      "source": [
        ""
      ],
      "metadata": {
        "id": "WP6qE0kxKSx8"
      },
      "execution_count": null,
      "outputs": []
    },
    {
      "cell_type": "code",
      "source": [
        ""
      ],
      "metadata": {
        "id": "HK4j1__AKS09"
      },
      "execution_count": null,
      "outputs": []
    },
    {
      "cell_type": "markdown",
      "source": [
        "# Create short dataset (speed limits)"
      ],
      "metadata": {
        "id": "koKRhskFKTcC"
      }
    },
    {
      "cell_type": "code",
      "source": [
        "import json\n",
        "from os import listdir\n",
        "from os.path import isfile, join\n",
        "from collections import Counter\n",
        "import matplotlib.pyplot as plt\n",
        "import plotly.express as px\n",
        "import shutil\n",
        "\n",
        "file_speed_classes = '/content/gdrive/MyDrive/Diplom/speed_classes.txt'\n",
        "\n",
        "annotation_dir = '/content/mtsd_v2_fully_annotated/annotations'\n",
        "annotations = [ join(annotation_dir, f) for f in listdir(annotation_dir)]\n",
        "\n",
        "ann_json = []\n",
        "classes = []\n",
        "annotations_with_speed_limits = []\n",
        "for ann in annotations:\n",
        "  with open(ann, 'r') as f:\n",
        "    anno = json.load(f)\n",
        "    for obj in anno['objects']:\n",
        "      if 'speed' in obj['label']:\n",
        "        classes.append(obj['label'])\n",
        "        annotations_with_speed_limits.append(ann)\n",
        "\n",
        "CLASSES_ONLY_SPEED_LIMITS = list(set(classes))\n",
        "\n",
        "with open(file_speed_classes, 'w') as f:\n",
        "  for cls in CLASSES_ONLY_SPEED_LIMITS:\n",
        "    f.write(f'{cls}\\n')\n",
        "\n",
        "annotations_speed_limit = list(set(annotations_with_speed_limits))\n",
        "images_for_dataset_speed_limit = [ i.split('/')[-1].split(\".\")[0] + '.jpg' for i in annotations_speed_limit]\n",
        "print(CLASSES_ONLY_SPEED_LIMITS)\n",
        "print(len(annotations_speed_limit), len(images_for_dataset_speed_limit))"
      ],
      "metadata": {
        "id": "TzZvJmR9KWfe",
        "colab": {
          "base_uri": "https://localhost:8080/"
        },
        "outputId": "f8bf20de-a161-45ba-d626-fb0433e9f300"
      },
      "execution_count": null,
      "outputs": [
        {
          "output_type": "stream",
          "name": "stdout",
          "text": [
            "['complementary--maximum-speed-limit-50--g1', 'regulatory--maximum-speed-limit-45--g1', 'complementary--maximum-speed-limit-20--g1', 'regulatory--maximum-speed-limit-120--g1', 'regulatory--maximum-speed-limit-35--g2', 'regulatory--maximum-speed-limit-50--g1', 'regulatory--maximum-speed-limit-90--g1', 'complementary--maximum-speed-limit-30--g1', 'regulatory--maximum-speed-limit-led-60--g1', 'regulatory--end-of-maximum-speed-limit-70--g2', 'regulatory--maximum-speed-limit-5--g1', 'regulatory--maximum-speed-limit-100--g3', 'information--minimum-speed-40--g1', 'regulatory--end-of-speed-limit-zone--g1', 'complementary--maximum-speed-limit-70--g1', 'complementary--maximum-speed-limit-55--g1', 'regulatory--maximum-speed-limit-100--g1', 'regulatory--maximum-speed-limit-45--g3', 'complementary--maximum-speed-limit-40--g1', 'regulatory--maximum-speed-limit-30--g1', 'regulatory--maximum-speed-limit-40--g6', 'complementary--maximum-speed-limit-25--g1', 'regulatory--maximum-speed-limit-led-80--g1', 'regulatory--maximum-speed-limit-25--g2', 'regulatory--maximum-speed-limit-70--g1', 'regulatory--maximum-speed-limit-25--g1', 'regulatory--maximum-speed-limit-110--g1', 'regulatory--maximum-speed-limit-40--g1', 'regulatory--end-of-maximum-speed-limit-70--g1', 'complementary--maximum-speed-limit-75--g1', 'regulatory--maximum-speed-limit-60--g1', 'regulatory--maximum-speed-limit-15--g1', 'regulatory--truck-speed-limit-60--g1', 'regulatory--maximum-speed-limit-55--g2', 'regulatory--end-of-maximum-speed-limit-30--g2', 'regulatory--maximum-speed-limit-65--g2', 'regulatory--maximum-speed-limit-80--g1', 'regulatory--maximum-speed-limit-50--g6', 'complementary--maximum-speed-limit-45--g1', 'complementary--maximum-speed-limit-15--g1', 'regulatory--maximum-speed-limit-30--g3', 'regulatory--maximum-speed-limit-led-100--g1', 'complementary--maximum-speed-limit-35--g1', 'regulatory--maximum-speed-limit-20--g1', 'regulatory--maximum-speed-limit-10--g1', 'regulatory--maximum-speed-limit-40--g3']\n",
            "6254 6254\n"
          ]
        }
      ]
    },
    {
      "cell_type": "code",
      "source": [
        "import os\n",
        "import shutil\n",
        "import json\n",
        "dataset_dir = os.path.join('/content/', 'dataset_speed_limit') # gdrive/MyDrive/Diplom\n",
        "\n",
        "train_dataset_dir = os.path.join(dataset_dir, 'train')\n",
        "train_dataset_images = os.path.join(train_dataset_dir, 'images')\n",
        "train_dataset_labels = os.path.join(train_dataset_dir, 'labels')\n",
        "\n",
        "val_dataset_dir = os.path.join(dataset_dir, 'val')\n",
        "val_dataset_images = os.path.join(val_dataset_dir, 'images')\n",
        "val_dataset_labels = os.path.join(val_dataset_dir, 'labels')\n",
        "\n",
        "def create_dir(path):\n",
        "  if not os.path.exists(path):\n",
        "    os.mkdir(path)\n",
        "\n",
        "create_dir(dataset_dir)\n",
        "\n",
        "create_dir(train_dataset_dir)\n",
        "create_dir(train_dataset_images)\n",
        "create_dir(train_dataset_labels)\n",
        "\n",
        "create_dir(val_dataset_dir)\n",
        "create_dir(val_dataset_images)\n",
        "create_dir(val_dataset_labels)\n",
        "\n",
        "images_dir = '/content/images'\n",
        "annotation_dir = '/content/mtsd_v2_fully_annotated/annotations'\n",
        "val_dir = '/content/val_images/images'"
      ],
      "metadata": {
        "id": "J79wNvhMKqJ_"
      },
      "execution_count": null,
      "outputs": []
    },
    {
      "cell_type": "code",
      "source": [
        "def create_dataset_speed_limit(images_dir, train_dataset_images, train_dataset_labels):\n",
        "  for ann in annotations_speed_limit:\n",
        "    image_name = ann.split(\"/\")[-1].split(\".\")[0]\n",
        "    if not os.path.exists(os.path.join(images_dir, image_name + '.jpg')):   # change images_dir\n",
        "      #print(f\"Image {image_name} doesn't exist\")\n",
        "      continue\n",
        "    \n",
        "    image_path = os.path.join(images_dir, image_name + '.jpg')                        # change images_dir\n",
        "    shutil.copy(image_path, os.path.join(train_dataset_images, image_name + '.jpg'))  # change train_dataset_images\n",
        "    #os.remove(image_path)\n",
        "    text_labels = []\n",
        "    with open(ann, 'r') as fid:\n",
        "      anno = json.load(fid)\n",
        "      width = anno['width']\n",
        "      height = anno['height']\n",
        "      for obj in anno['objects']:\n",
        "        x1 = obj['bbox']['xmin']\n",
        "        y1 = obj['bbox']['ymin']\n",
        "        x2 = obj['bbox']['xmax']\n",
        "        y2 = obj['bbox']['ymax']\n",
        "\n",
        "        class_name = obj['label']\n",
        "\n",
        "        x_center = float(((x2 - x1) / 2 + x1) / width)\n",
        "        y_center = float(((y2 - y1) / 2 + y1) / height)\n",
        "\n",
        "        width_box = float((x2 - x1) / width)\n",
        "        height_box = float((y2 - y1) / height)\n",
        "        if class_name in CLASSES_ONLY_SPEED_LIMITS:\n",
        "          text_labels.append(f'{CLASSES_ONLY_SPEED_LIMITS.index(class_name)} {x_center} {y_center} {width_box} {height_box}')\n",
        "    \n",
        "    with open(os.path.join(train_dataset_labels, image_name + '.txt'), 'w') as label_file:   # change train_dataset_labels\n",
        "      for label in text_labels:\n",
        "        label_file.write(label + '\\n')\n",
        "  \n"
      ],
      "metadata": {
        "id": "5pmuYrf_ZP2U"
      },
      "execution_count": null,
      "outputs": []
    },
    {
      "cell_type": "code",
      "source": [
        "# create train dataset\n",
        "create_dataset_speed_limit(images_dir, train_dataset_images, train_dataset_labels)\n",
        "# create val dataset\n",
        "create_dataset_speed_limit(val_dir, val_dataset_images, val_dataset_labels)"
      ],
      "metadata": {
        "id": "cYLMM33nZfy0"
      },
      "execution_count": null,
      "outputs": []
    },
    {
      "cell_type": "code",
      "source": [
        "!ls /content/dataset_speed_limit/train/images | wc -l # /content/drive/MyDrive/Diplom/dataset_speed_limit/train/images\n",
        "!ls /content/dataset_speed_limit/train/labels | wc -l # /content/drive/MyDrive/Diplom/dataset_speed_limit/train/labels\n",
        "\n",
        "!ls /content/dataset_speed_limit/val/images | wc -l # /content/drive/MyDrive/Diplom/dataset_speed_limit/val/images\n",
        "!ls /content/dataset_speed_limit/val/labels | wc -l # /content/drive/MyDrive/Diplom/dataset_speed_limit/val/labels"
      ],
      "metadata": {
        "id": "anOOJz75a7y8",
        "colab": {
          "base_uri": "https://localhost:8080/"
        },
        "outputId": "87b3a389-d452-4863-c5ae-acf430380967"
      },
      "execution_count": null,
      "outputs": [
        {
          "output_type": "stream",
          "name": "stdout",
          "text": [
            "5452\n",
            "5452\n",
            "802\n",
            "802\n"
          ]
        }
      ]
    },
    {
      "cell_type": "code",
      "source": [
        "!zip -r /content/dataset_speed_limit.zip /content/dataset_speed_limit"
      ],
      "metadata": {
        "id": "gF3K9BOxqZq6"
      },
      "execution_count": null,
      "outputs": []
    },
    {
      "cell_type": "code",
      "source": [
        "from google.colab import files\n",
        "files.download('/content/dataset_speed_limit.zip') "
      ],
      "metadata": {
        "id": "zpe4R28mtbkh"
      },
      "execution_count": null,
      "outputs": []
    },
    {
      "cell_type": "code",
      "source": [
        "import shutil\n",
        "\n",
        "shutil.copy('/content/dataset_speed_limit.zip' , '/content/gdrive/MyDrive/Diplom')"
      ],
      "metadata": {
        "colab": {
          "base_uri": "https://localhost:8080/",
          "height": 35
        },
        "id": "lCMNPBhqu-Qi",
        "outputId": "d83f6be9-a328-419b-adf5-019d8bfe6764"
      },
      "execution_count": null,
      "outputs": [
        {
          "output_type": "execute_result",
          "data": {
            "text/plain": [
              "'/content/gdrive/MyDrive/Diplom/dataset_speed_limit.zip'"
            ],
            "application/vnd.google.colaboratory.intrinsic+json": {
              "type": "string"
            }
          },
          "metadata": {},
          "execution_count": 27
        }
      ]
    },
    {
      "cell_type": "markdown",
      "source": [
        "# Train model for speed traffic sign detection"
      ],
      "metadata": {
        "id": "I3yjQpiTa9cH"
      }
    },
    {
      "cell_type": "code",
      "source": [
        "!unzip /content/gdrive/MyDrive/Diplom/dataset_speed_limit.zip"
      ],
      "metadata": {
        "id": "TAgN7ks31wv-"
      },
      "execution_count": null,
      "outputs": []
    },
    {
      "cell_type": "code",
      "source": [
        "!git clone https://github.com/ultralytics/yolov5  # clone repo\n",
        "!pip install -r yolov5/requirements.txt  # install"
      ],
      "metadata": {
        "id": "gh6saMBwbWfg"
      },
      "execution_count": null,
      "outputs": []
    },
    {
      "cell_type": "code",
      "source": [
        "!python yolov5/train.py --img 640 --batch 16 --epochs 1 --data /content/gdrive/MyDrive/Diplom/dataset_diplom_speed_limits.yaml --weights yolov5s.pt"
      ],
      "metadata": {
        "id": "Bq0-5cpDbaWY"
      },
      "execution_count": null,
      "outputs": []
    },
    {
      "cell_type": "markdown",
      "source": [
        "# Download kaggle dataset (Traffic sign)"
      ],
      "metadata": {
        "id": "v1CtSir7C2Y3"
      }
    },
    {
      "cell_type": "code",
      "source": [
        "!unzip /content/gdrive/MyDrive/kaggle_traffic_sign_dataset.zip"
      ],
      "metadata": {
        "id": "P6IOqSXlC88i"
      },
      "execution_count": null,
      "outputs": []
    },
    {
      "cell_type": "code",
      "source": [
        "import os\n",
        "import shutil\n",
        "import json\n",
        "dataset_dir = os.path.join('/content/', 'dataset')\n",
        "\n",
        "train_dataset_dir = os.path.join(dataset_dir, 'train')\n",
        "train_dataset_images = os.path.join(train_dataset_dir, 'images')\n",
        "train_dataset_labels = os.path.join(train_dataset_dir, 'labels')\n",
        "\n",
        "val_dataset_dir = os.path.join(dataset_dir, 'val')\n",
        "val_dataset_images = os.path.join(val_dataset_dir, 'images')\n",
        "val_dataset_labels = os.path.join(val_dataset_dir, 'labels')\n",
        "\n",
        "def create_dir(path):\n",
        "  if not os.path.exists(path):\n",
        "    os.mkdir(path)\n",
        "\n",
        "create_dir(dataset_dir)\n",
        "\n",
        "create_dir(train_dataset_dir)\n",
        "create_dir(train_dataset_images)\n",
        "create_dir(train_dataset_labels)\n",
        "\n",
        "create_dir(val_dataset_dir)\n",
        "create_dir(val_dataset_images)\n",
        "create_dir(val_dataset_labels)\n",
        "\n",
        "images_dir = '/content/images'\n",
        "annotation_dir = '/content/annotations'\n",
        "#val_dir = '/content/val_images/images'\n",
        "annotations = [ os.path.join(annotation_dir, f) for f in os.listdir(annotation_dir)]"
      ],
      "metadata": {
        "id": "u99crZ1GFtTi"
      },
      "execution_count": null,
      "outputs": []
    },
    {
      "cell_type": "code",
      "source": [
        "import xml.etree.ElementTree as ET\n",
        "import glob\n",
        "import os\n",
        "import json\n",
        "\n",
        "\n",
        "def xml_to_yolo_bbox(bbox, w, h):\n",
        "    # xmin, ymin, xmax, ymax\n",
        "    x_center = ((bbox[2] + bbox[0]) / 2) / w\n",
        "    y_center = ((bbox[3] + bbox[1]) / 2) / h\n",
        "    width = (bbox[2] - bbox[0]) / w\n",
        "    height = (bbox[3] - bbox[1]) / h\n",
        "    return [x_center, y_center, width, height]\n",
        "\n",
        "\n",
        "def yolo_to_xml_bbox(bbox, w, h):\n",
        "    # x_center, y_center width heigth\n",
        "    w_half_len = (bbox[2] * w) / 2\n",
        "    h_half_len = (bbox[3] * h) / 2\n",
        "    xmin = int((bbox[0] * w) - w_half_len)\n",
        "    ymin = int((bbox[1] * h) - h_half_len)\n",
        "    xmax = int((bbox[0] * w) + w_half_len)\n",
        "    ymax = int((bbox[1] * h) + h_half_len)\n",
        "    return [xmin, ymin, xmax, ymax]\n",
        "\n",
        "\n",
        "classes = []\n",
        "input_dir = \"annotations/\"\n",
        "output_dir = \"labels/\"\n",
        "image_dir = \"images/\"\n",
        "\n",
        "# create the labels folder (output directory)\n",
        "if not os.path.exists(output_dir):\n",
        "  os.mkdir(output_dir)\n",
        "\n",
        "# identify all the xml files in the annotations folder (input directory)\n",
        "files = glob.glob(os.path.join(input_dir, '*.xml'))\n",
        "# loop through each \n",
        "for fil in files:\n",
        "    basename = os.path.basename(fil)\n",
        "    filename = os.path.splitext(basename)[0]\n",
        "    # check if the label contains the corresponding image file\n",
        "    if not os.path.exists(os.path.join(image_dir, f\"{filename}.png\")):\n",
        "        print(f\"{filename} image does not exist!\")\n",
        "        continue\n",
        "\n",
        "    result = []\n",
        "\n",
        "    # parse the content of the xml file\n",
        "    tree = ET.parse(fil)\n",
        "    root = tree.getroot()\n",
        "    width = int(root.find(\"size\").find(\"width\").text)\n",
        "    height = int(root.find(\"size\").find(\"height\").text)\n",
        "\n",
        "    for obj in root.findall('object'):\n",
        "        label = obj.find(\"name\").text\n",
        "        # check for new classes and append to list\n",
        "        if label not in classes:\n",
        "            classes.append(label)\n",
        "        index = classes.index(label)\n",
        "        pil_bbox = [int(x.text) for x in obj.find(\"bndbox\")]\n",
        "        yolo_bbox = xml_to_yolo_bbox(pil_bbox, width, height)\n",
        "        # convert data to string\n",
        "        bbox_string = \" \".join([str(x) for x in yolo_bbox])\n",
        "        result.append(f\"{index} {bbox_string}\")\n",
        "\n",
        "    if result:\n",
        "        # generate a YOLO format text file for each xml file\n",
        "        with open(os.path.join(output_dir, f\"{filename}.txt\"), \"w\", encoding=\"utf-8\") as f:\n",
        "            f.write(\"\\n\".join(result))\n",
        "\n",
        "# generate the classes file as reference\n",
        "with open('classes.txt', 'w', encoding='utf8') as f:\n",
        "    f.write(json.dumps(classes))"
      ],
      "metadata": {
        "id": "ogR4SIjKGEBJ"
      },
      "execution_count": null,
      "outputs": []
    },
    {
      "cell_type": "markdown",
      "source": [
        "## Draw train image with bounding boxes"
      ],
      "metadata": {
        "id": "yg8qJmO_Iak-"
      }
    },
    {
      "cell_type": "code",
      "source": [
        "\n",
        "from PIL import Image, ImageDraw\n",
        "\n",
        "\n",
        "def yolo_to_xml_bbox(bbox, w, h):\n",
        "    # x_center, y_center width heigth\n",
        "    w_half_len = (bbox[2] * w) / 2\n",
        "    h_half_len = (bbox[3] * h) / 2\n",
        "    xmin = int((bbox[0] * w) - w_half_len)\n",
        "    ymin = int((bbox[1] * h) - h_half_len)\n",
        "    xmax = int((bbox[0] * w) + w_half_len)\n",
        "    ymax = int((bbox[1] * h) + h_half_len)\n",
        "    return [xmin, ymin, xmax, ymax]\n",
        "\n",
        "\n",
        "def draw_image(img, bboxes):\n",
        "    draw = ImageDraw.Draw(img)\n",
        "    for bbox in bboxes:\n",
        "        draw.rectangle(bbox, outline=\"red\", width=2)\n",
        "    img.save(\"example.png\")\n",
        "\n",
        "\n",
        "image_filename = \"/content/images/road101.png\"\n",
        "label_filename = \"/content/labels/road101.txt\"\n",
        "bboxes = []\n",
        "\n",
        "img = Image.open(image_filename)\n",
        "\n",
        "with open(label_filename, 'r', encoding='utf8') as f:\n",
        "    for line in f:\n",
        "        data = line.strip().split(' ')\n",
        "        bbox = [float(x) for x in data[1:]]\n",
        "        bboxes.append(yolo_to_xml_bbox(bbox, img.width, img.height))\n",
        "\n",
        "draw_image(img, bboxes)"
      ],
      "metadata": {
        "id": "cEcKanjDIhoO"
      },
      "execution_count": null,
      "outputs": []
    },
    {
      "cell_type": "markdown",
      "source": [
        "## Split dataset"
      ],
      "metadata": {
        "id": "VGR4boUCMYPB"
      }
    },
    {
      "cell_type": "code",
      "source": [
        "import random\n",
        "import glob\n",
        "import os\n",
        "import shutil\n",
        "\n",
        "\n",
        "def copyfiles(fil, root_dir):\n",
        "    basename = os.path.basename(fil)\n",
        "    filename = os.path.splitext(basename)[0]\n",
        "\n",
        "    # copy image\n",
        "    src = fil\n",
        "    dest = os.path.join(root_dir, image_dir, f\"{filename}.png\")\n",
        "    shutil.copyfile(src, dest)\n",
        "\n",
        "    # copy annotations\n",
        "    src = os.path.join(label_dir, f\"{filename}.txt\")\n",
        "    dest = os.path.join(root_dir, label_dir, f\"{filename}.txt\")\n",
        "    if os.path.exists(src):\n",
        "        shutil.copyfile(src, dest)\n",
        "\n",
        "\n",
        "label_dir = \"labels/\"\n",
        "image_dir = \"images/\"\n",
        "lower_limit = 0\n",
        "files = glob.glob(os.path.join(image_dir, '*.png'))\n",
        "\n",
        "random.shuffle(files)\n",
        "\n",
        "dataset_dir = 'dataset'\n",
        "if os.path.exists(dataset_dir):\n",
        "  shutil.rmtree(dataset_dir)\n",
        "\n",
        "os.mkdir(dataset_dir)\n",
        "\n",
        "folders = {os.path.join(dataset_dir, \"train\"): 0.8, \n",
        "           os.path.join(dataset_dir, \"val\"): 0.1, \n",
        "           os.path.join(dataset_dir, \"test\"): 0.1}\n",
        "check_sum = sum([folders[x] for x in folders])\n",
        "\n",
        "assert check_sum == 1.0, \"Split proportion is not equal to 1.0\"\n",
        "\n",
        "for folder in folders:\n",
        "    if not os.path.exists(folder):\n",
        "      os.mkdir(folder)\n",
        "\n",
        "    temp_label_dir = os.path.join(folder, label_dir)\n",
        "    if not os.path.exists(temp_label_dir):\n",
        "      os.mkdir(temp_label_dir)\n",
        "    temp_image_dir = os.path.join(folder, image_dir)\n",
        "    if not os.path.exists(temp_image_dir):\n",
        "      os.mkdir(temp_image_dir)\n",
        "\n",
        "    limit = round(len(files) * folders[folder])\n",
        "    for fil in files[lower_limit:lower_limit + limit]:\n",
        "        copyfiles(fil, folder)"
      ],
      "metadata": {
        "id": "2PeVfsPPMXJA"
      },
      "execution_count": null,
      "outputs": []
    },
    {
      "cell_type": "code",
      "source": [
        "!ls /content/dataset/train/labels | wc -l"
      ],
      "metadata": {
        "colab": {
          "base_uri": "https://localhost:8080/"
        },
        "id": "UNNacSuANWr8",
        "outputId": "d6a87f78-8cac-447d-ade8-16cb9615a33d"
      },
      "execution_count": null,
      "outputs": [
        {
          "output_type": "stream",
          "name": "stdout",
          "text": [
            "702\n"
          ]
        }
      ]
    },
    {
      "cell_type": "code",
      "source": [
        "!zip -r /content/dataset.zip dataset/"
      ],
      "metadata": {
        "id": "tuSQjXc8P99X"
      },
      "execution_count": null,
      "outputs": []
    },
    {
      "cell_type": "code",
      "source": [
        "import shutil\n",
        "\n",
        "shutil.copy('/content/dataset.zip', '/content/drive/MyDrive/Diplom')"
      ],
      "metadata": {
        "colab": {
          "base_uri": "https://localhost:8080/",
          "height": 35
        },
        "id": "9JXxYGXwQPO5",
        "outputId": "13b15a10-2217-4b2f-fa97-55697760da16"
      },
      "execution_count": null,
      "outputs": [
        {
          "output_type": "execute_result",
          "data": {
            "text/plain": [
              "'/content/drive/MyDrive/Diplom/dataset.zip'"
            ],
            "application/vnd.google.colaboratory.intrinsic+json": {
              "type": "string"
            }
          },
          "metadata": {},
          "execution_count": 39
        }
      ]
    },
    {
      "cell_type": "markdown",
      "source": [
        "## Train model"
      ],
      "metadata": {
        "id": "_85UGCX1PwXf"
      }
    },
    {
      "cell_type": "code",
      "source": [
        "!unzip /content/gdrive/MyDrive/Diplom/dataset.zip"
      ],
      "metadata": {
        "id": "j1sQz4diP8tZ"
      },
      "execution_count": null,
      "outputs": []
    },
    {
      "cell_type": "code",
      "source": [
        "!git clone https://github.com/ultralytics/yolov5  # clone repo\n",
        "!pip install -r yolov5/requirements.txt  # install"
      ],
      "metadata": {
        "id": "RMoJT7FgNWw-"
      },
      "execution_count": null,
      "outputs": []
    },
    {
      "cell_type": "code",
      "source": [
        "!python yolov5/train.py --img 640 --batch 16 --epochs 5 --data /content/dataset/dataset.yaml --weights yolov5x.pt"
      ],
      "metadata": {
        "colab": {
          "base_uri": "https://localhost:8080/"
        },
        "id": "_co8x3V1P7AX",
        "outputId": "f70bd7cb-1311-431d-a733-37b2f342fb5c"
      },
      "execution_count": null,
      "outputs": [
        {
          "output_type": "stream",
          "name": "stdout",
          "text": [
            "\u001b[34m\u001b[1mtrain: \u001b[0mweights=yolov5x.pt, cfg=, data=/content/dataset/dataset.yaml, hyp=yolov5/data/hyps/hyp.scratch-low.yaml, epochs=5, batch_size=16, imgsz=640, rect=False, resume=False, nosave=False, noval=False, noautoanchor=False, noplots=False, evolve=None, bucket=, cache=None, image_weights=False, device=, multi_scale=False, single_cls=False, optimizer=SGD, sync_bn=False, workers=8, project=yolov5/runs/train, name=exp, exist_ok=False, quad=False, cos_lr=False, label_smoothing=0.0, patience=100, freeze=[0], save_period=-1, local_rank=-1, entity=None, upload_dataset=False, bbox_interval=-1, artifact_alias=latest\n",
            "\u001b[34m\u001b[1mgithub: \u001b[0mup to date with https://github.com/ultralytics/yolov5 ✅\n",
            "YOLOv5 🚀 v6.1-223-g1dcb774 Python-3.7.13 torch-1.11.0+cu113 CUDA:0 (Tesla T4, 15110MiB)\n",
            "\n",
            "\u001b[34m\u001b[1mhyperparameters: \u001b[0mlr0=0.01, lrf=0.01, momentum=0.937, weight_decay=0.0005, warmup_epochs=3.0, warmup_momentum=0.8, warmup_bias_lr=0.1, box=0.05, cls=0.5, cls_pw=1.0, obj=1.0, obj_pw=1.0, iou_t=0.2, anchor_t=4.0, fl_gamma=0.0, hsv_h=0.015, hsv_s=0.7, hsv_v=0.4, degrees=0.0, translate=0.1, scale=0.5, shear=0.0, perspective=0.0, flipud=0.0, fliplr=0.5, mosaic=1.0, mixup=0.0, copy_paste=0.0\n",
            "\u001b[34m\u001b[1mWeights & Biases: \u001b[0mrun 'pip install wandb' to automatically track and visualize YOLOv5 🚀 runs (RECOMMENDED)\n",
            "\u001b[34m\u001b[1mTensorBoard: \u001b[0mStart with 'tensorboard --logdir yolov5/runs/train', view at http://localhost:6006/\n",
            "Downloading https://github.com/ultralytics/yolov5/releases/download/v6.1/yolov5x.pt to yolov5x.pt...\n",
            "100% 166M/166M [00:01<00:00, 101MB/s] \n",
            "\n",
            "Overriding model.yaml nc=80 with nc=4\n",
            "\n",
            "                 from  n    params  module                                  arguments                     \n",
            "  0                -1  1      8800  models.common.Conv                      [3, 80, 6, 2, 2]              \n",
            "  1                -1  1    115520  models.common.Conv                      [80, 160, 3, 2]               \n",
            "  2                -1  4    309120  models.common.C3                        [160, 160, 4]                 \n",
            "  3                -1  1    461440  models.common.Conv                      [160, 320, 3, 2]              \n",
            "  4                -1  8   2259200  models.common.C3                        [320, 320, 8]                 \n",
            "  5                -1  1   1844480  models.common.Conv                      [320, 640, 3, 2]              \n",
            "  6                -1 12  13125120  models.common.C3                        [640, 640, 12]                \n",
            "  7                -1  1   7375360  models.common.Conv                      [640, 1280, 3, 2]             \n",
            "  8                -1  4  19676160  models.common.C3                        [1280, 1280, 4]               \n",
            "  9                -1  1   4099840  models.common.SPPF                      [1280, 1280, 5]               \n",
            " 10                -1  1    820480  models.common.Conv                      [1280, 640, 1, 1]             \n",
            " 11                -1  1         0  torch.nn.modules.upsampling.Upsample    [None, 2, 'nearest']          \n",
            " 12           [-1, 6]  1         0  models.common.Concat                    [1]                           \n",
            " 13                -1  4   5332480  models.common.C3                        [1280, 640, 4, False]         \n",
            " 14                -1  1    205440  models.common.Conv                      [640, 320, 1, 1]              \n",
            " 15                -1  1         0  torch.nn.modules.upsampling.Upsample    [None, 2, 'nearest']          \n",
            " 16           [-1, 4]  1         0  models.common.Concat                    [1]                           \n",
            " 17                -1  4   1335040  models.common.C3                        [640, 320, 4, False]          \n",
            " 18                -1  1    922240  models.common.Conv                      [320, 320, 3, 2]              \n",
            " 19          [-1, 14]  1         0  models.common.Concat                    [1]                           \n",
            " 20                -1  4   4922880  models.common.C3                        [640, 640, 4, False]          \n",
            " 21                -1  1   3687680  models.common.Conv                      [640, 640, 3, 2]              \n",
            " 22          [-1, 10]  1         0  models.common.Concat                    [1]                           \n",
            " 23                -1  4  19676160  models.common.C3                        [1280, 1280, 4, False]        \n",
            " 24      [17, 20, 23]  1     60561  models.yolo.Detect                      [4, [[10, 13, 16, 30, 33, 23], [30, 61, 62, 45, 59, 119], [116, 90, 156, 198, 373, 326]], [320, 640, 1280]]\n",
            "Model summary: 567 layers, 86238001 parameters, 86238001 gradients, 204.2 GFLOPs\n",
            "\n",
            "Transferred 739/745 items from yolov5x.pt\n",
            "\u001b[34m\u001b[1mAMP: \u001b[0mchecks passed ✅\n",
            "Scaled weight_decay = 0.0005\n",
            "\u001b[34m\u001b[1moptimizer:\u001b[0m SGD with parameter groups 123 weight (no decay), 126 weight, 126 bias\n",
            "\u001b[34m\u001b[1malbumentations: \u001b[0mversion 1.0.3 required by YOLOv5, but version 0.1.12 is currently installed\n",
            "\u001b[34m\u001b[1mtrain: \u001b[0mScanning '/content/dataset/train/labels.cache' images and labels... 702 found, 0 missing, 0 empty, 0 corrupt: 100% 702/702 [00:00<?, ?it/s]\n",
            "\u001b[34m\u001b[1mval: \u001b[0mScanning '/content/dataset/val/labels.cache' images and labels... 88 found, 0 missing, 0 empty, 0 corrupt: 100% 88/88 [00:00<?, ?it/s]\n",
            "Plotting labels to yolov5/runs/train/exp2/labels.jpg... \n",
            "\n",
            "\u001b[34m\u001b[1mAutoAnchor: \u001b[0m5.61 anchors/target, 1.000 Best Possible Recall (BPR). Current anchors are a good fit to dataset ✅\n",
            "Image sizes 640 train, 640 val\n",
            "Using 2 dataloader workers\n",
            "Logging results to \u001b[1myolov5/runs/train/exp2\u001b[0m\n",
            "Starting training for 5 epochs...\n",
            "\n",
            "     Epoch   gpu_mem       box       obj       cls    labels  img_size\n",
            "       0/4     13.2G   0.09051   0.03366   0.03339        45       640: 100% 44/44 [00:52<00:00,  1.19s/it]\n",
            "               Class     Images     Labels          P          R     mAP@.5 mAP@.5:.95: 100% 3/3 [00:02<00:00,  1.20it/s]\n",
            "                 all         88        129      0.542       0.15     0.0648     0.0194\n",
            "\n",
            "     Epoch   gpu_mem       box       obj       cls    labels  img_size\n",
            "       1/4     13.8G   0.07218    0.0213   0.01751        33       640: 100% 44/44 [00:49<00:00,  1.12s/it]\n",
            "               Class     Images     Labels          P          R     mAP@.5 mAP@.5:.95: 100% 3/3 [00:02<00:00,  1.40it/s]\n",
            "                 all         88        129      0.306      0.532      0.278     0.0915\n",
            "\n",
            "     Epoch   gpu_mem       box       obj       cls    labels  img_size\n",
            "       2/4     13.8G   0.06506   0.01621   0.01133        20       640: 100% 44/44 [00:50<00:00,  1.14s/it]\n",
            "               Class     Images     Labels          P          R     mAP@.5 mAP@.5:.95: 100% 3/3 [00:02<00:00,  1.37it/s]\n",
            "                 all         88        129      0.515      0.625      0.535      0.254\n",
            "\n",
            "     Epoch   gpu_mem       box       obj       cls    labels  img_size\n",
            "       3/4     13.8G   0.05624   0.01332  0.007677        25       640: 100% 44/44 [00:50<00:00,  1.16s/it]\n",
            "               Class     Images     Labels          P          R     mAP@.5 mAP@.5:.95: 100% 3/3 [00:02<00:00,  1.38it/s]\n",
            "                 all         88        129      0.482      0.651      0.629      0.299\n",
            "\n",
            "     Epoch   gpu_mem       box       obj       cls    labels  img_size\n",
            "       4/4     13.8G   0.04758   0.01165  0.005502        41       640: 100% 44/44 [00:51<00:00,  1.17s/it]\n",
            "               Class     Images     Labels          P          R     mAP@.5 mAP@.5:.95: 100% 3/3 [00:02<00:00,  1.36it/s]\n",
            "                 all         88        129      0.696      0.842      0.857      0.417\n",
            "\n",
            "5 epochs completed in 0.082 hours.\n",
            "Optimizer stripped from yolov5/runs/train/exp2/weights/last.pt, 173.1MB\n",
            "Optimizer stripped from yolov5/runs/train/exp2/weights/best.pt, 173.1MB\n",
            "\n",
            "Validating yolov5/runs/train/exp2/weights/best.pt...\n",
            "Fusing layers... \n",
            "Model summary: 444 layers, 86193601 parameters, 0 gradients, 204.0 GFLOPs\n",
            "               Class     Images     Labels          P          R     mAP@.5 mAP@.5:.95: 100% 3/3 [00:03<00:00,  1.21s/it]\n",
            "                 all         88        129      0.696      0.843      0.857      0.418\n",
            "           crosswalk         88         14      0.694       0.81      0.819      0.382\n",
            "                stop         88          7       0.72      0.857      0.913      0.431\n",
            "          speedlimit         88         85      0.632      0.965      0.854      0.454\n",
            "        trafficlight         88         23      0.741      0.739       0.84      0.403\n",
            "Results saved to \u001b[1myolov5/runs/train/exp2\u001b[0m\n"
          ]
        }
      ]
    }
  ],
  "metadata": {
    "colab": {
      "collapsed_sections": [
        "vYVtQ5vEC_gS",
        "0snuTgWCaNTW",
        "cOgGD-Xx3CXM",
        "koKRhskFKTcC"
      ],
      "name": "traffic_sign_recognize_final.ipynb",
      "provenance": []
    },
    "kernelspec": {
      "display_name": "Python 3",
      "name": "python3"
    },
    "language_info": {
      "name": "python"
    },
    "accelerator": "GPU"
  },
  "nbformat": 4,
  "nbformat_minor": 0
}